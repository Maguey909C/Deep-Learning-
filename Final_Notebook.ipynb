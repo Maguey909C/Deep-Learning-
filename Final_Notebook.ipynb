{
 "cells": [
  {
   "cell_type": "markdown",
   "metadata": {},
   "source": [
    "# Yelp Photo Classification Project\n",
    "#### Based on 2016 Kaggle Competition: https://www.kaggle.com/c/yelp-restaurant-photo-classification\n",
    "#### Author: Chase Renick"
   ]
  },
  {
   "cell_type": "markdown",
   "metadata": {},
   "source": [
    "### Imports"
   ]
  },
  {
   "cell_type": "code",
   "execution_count": 40,
   "metadata": {
    "collapsed": true
   },
   "outputs": [],
   "source": [
    "import tensorflow\n",
    "import keras"
   ]
  },
  {
   "cell_type": "code",
   "execution_count": 41,
   "metadata": {
    "collapsed": true
   },
   "outputs": [],
   "source": [
    "import numpy as np\n",
    "import pandas as pd\n",
    "import matplotlib.pyplot as plt\n",
    "from PIL import Image\n",
    "from PIL import ImageFilter\n",
    "%matplotlib inline"
   ]
  },
  {
   "cell_type": "markdown",
   "metadata": {},
   "source": [
    "#### Reading in the labels"
   ]
  },
  {
   "cell_type": "code",
   "execution_count": 42,
   "metadata": {
    "collapsed": true
   },
   "outputs": [],
   "source": [
    "df = pd.read_csv('/home/chaserenick/Downloads/train.csv')\n",
    "photo_to_biz = pd.read_csv('/home/chaserenick/Downloads/train_photo_to_biz_ids.csv')\n",
    "test_photo_to_biz = pd.read_csv('/home/chaserenick/Downloads/test_photo_to_biz.csv')"
   ]
  },
  {
   "cell_type": "markdown",
   "metadata": {},
   "source": [
    "#### Reading in Training & Test JPGS & Sorts Them"
   ]
  },
  {
   "cell_type": "code",
   "execution_count": 43,
   "metadata": {
    "collapsed": true
   },
   "outputs": [],
   "source": [
    "import os\n",
    "actual_photos = []\n",
    "for filename in os.listdir('/home/chaserenick/train_photos'):\n",
    "    newval = (filename.replace(\".jpg\",\"\"))\n",
    "    actual_photos.append(int(newval))\n",
    "    \n",
    "test_photos = []\n",
    "for filename in os.listdir('/home/chaserenick/test_photos'):\n",
    "    newvals = (filename.replace(\".jpg\",\"\"))\n",
    "    test_photos.append(int(newvals))\n",
    "    \n",
    "actual_photos = sorted(actual_photos)\n",
    "test_photos = sorted(test_photos)"
   ]
  },
  {
   "cell_type": "markdown",
   "metadata": {},
   "source": [
    "#### Number of Photos in the Train & Test Files"
   ]
  },
  {
   "cell_type": "code",
   "execution_count": 44,
   "metadata": {
    "collapsed": false
   },
   "outputs": [
    {
     "data": {
      "text/plain": [
       "(7458, 8303)"
      ]
     },
     "execution_count": 44,
     "metadata": {},
     "output_type": "execute_result"
    }
   ],
   "source": [
    "len(actual_photos), len(test_photos)"
   ]
  },
  {
   "cell_type": "markdown",
   "metadata": {},
   "source": [
    "#### Total Number of Business ID's"
   ]
  },
  {
   "cell_type": "code",
   "execution_count": 45,
   "metadata": {
    "collapsed": false
   },
   "outputs": [
    {
     "data": {
      "text/plain": [
       "(2000, 234842, 1190225)"
      ]
     },
     "execution_count": 45,
     "metadata": {},
     "output_type": "execute_result"
    }
   ],
   "source": [
    "len(df), len(photo_to_biz), len(test_photo_to_biz)"
   ]
  },
  {
   "cell_type": "markdown",
   "metadata": {},
   "source": [
    "#### Examining Train Labels"
   ]
  },
  {
   "cell_type": "code",
   "execution_count": 46,
   "metadata": {
    "collapsed": false
   },
   "outputs": [
    {
     "data": {
      "text/html": [
       "<div>\n",
       "<style>\n",
       "    .dataframe thead tr:only-child th {\n",
       "        text-align: right;\n",
       "    }\n",
       "\n",
       "    .dataframe thead th {\n",
       "        text-align: left;\n",
       "    }\n",
       "\n",
       "    .dataframe tbody tr th {\n",
       "        vertical-align: top;\n",
       "    }\n",
       "</style>\n",
       "<table border=\"1\" class=\"dataframe\">\n",
       "  <thead>\n",
       "    <tr style=\"text-align: right;\">\n",
       "      <th></th>\n",
       "      <th>business_id</th>\n",
       "      <th>labels</th>\n",
       "    </tr>\n",
       "  </thead>\n",
       "  <tbody>\n",
       "    <tr>\n",
       "      <th>0</th>\n",
       "      <td>1000</td>\n",
       "      <td>1 2 3 4 5 6 7</td>\n",
       "    </tr>\n",
       "    <tr>\n",
       "      <th>1</th>\n",
       "      <td>1001</td>\n",
       "      <td>0 1 6 8</td>\n",
       "    </tr>\n",
       "    <tr>\n",
       "      <th>2</th>\n",
       "      <td>100</td>\n",
       "      <td>1 2 4 5 6 7</td>\n",
       "    </tr>\n",
       "    <tr>\n",
       "      <th>3</th>\n",
       "      <td>1006</td>\n",
       "      <td>1 2 4 5 6</td>\n",
       "    </tr>\n",
       "    <tr>\n",
       "      <th>4</th>\n",
       "      <td>1010</td>\n",
       "      <td>0 6 8</td>\n",
       "    </tr>\n",
       "  </tbody>\n",
       "</table>\n",
       "</div>"
      ],
      "text/plain": [
       "   business_id         labels\n",
       "0         1000  1 2 3 4 5 6 7\n",
       "1         1001        0 1 6 8\n",
       "2          100    1 2 4 5 6 7\n",
       "3         1006      1 2 4 5 6\n",
       "4         1010          0 6 8"
      ]
     },
     "execution_count": 46,
     "metadata": {},
     "output_type": "execute_result"
    }
   ],
   "source": [
    "df.head()"
   ]
  },
  {
   "cell_type": "markdown",
   "metadata": {},
   "source": [
    "#### Exploring Class Imbalance"
   ]
  },
  {
   "cell_type": "code",
   "execution_count": 47,
   "metadata": {
    "collapsed": false
   },
   "outputs": [
    {
     "name": "stdout",
     "output_type": "stream",
     "text": [
      "Training Set:\n"
     ]
    },
    {
     "data": {
      "image/png": "[encoded data removed]",
      "text/plain": [
       "<matplotlib.figure.Figure at 0x7f5d77b92160>"
      ]
     },
     "metadata": {},
     "output_type": "display_data"
    },
    {
     "name": "stdout",
     "output_type": "stream",
     "text": [
      "None\n"
     ]
    }
   ],
   "source": [
    "from collections import Counter\n",
    "import matplotlib.pyplot as plt\n",
    "%matplotlib inline\n",
    "\n",
    "def class_imbalance(df):\n",
    "    labels = df['labels']\n",
    "    cnt = Counter ()\n",
    "\n",
    "    label_dic = {}\n",
    "    for val in labels:\n",
    "        val = str(val)\n",
    "        val = val.split()\n",
    "        for num in val:\n",
    "            if num == ' ':\n",
    "                pass\n",
    "            else:\n",
    "                cnt[num] += 1\n",
    "\n",
    "    # print (cnt)\n",
    "    new = {'6': 'has_table_service', \n",
    "           '5': 'has_alcohol',\n",
    "           '8': 'good_for_kids',\n",
    "           '2': 'takes_reservations',\n",
    "           '3': 'outdoor_seating',\n",
    "           '1': 'good_for_dinner',\n",
    "           '0': 'good_for_lunch',\n",
    "           '7': 'ambience_is_classy',\n",
    "           '4': 'restaurant_is_expensive',\n",
    "           'nan': 'missing_value'}\n",
    "\n",
    "    clarified = {new[k]: v for k, v in cnt.items()}\n",
    "\n",
    "    plt.figure(figsize=(7,7))\n",
    "    plt.title(\"Distribution of Yelp Labels Per Picture\", fontsize=20)\n",
    "    plt.bar(range(len(clarified)), clarified.values(), align='center')\n",
    "    plt.xticks(range(len(clarified)), list(clarified.keys()), rotation=90, fontsize=12)\n",
    "    plt.xlabel('Labels Present in Pictures', fontsize= 15)\n",
    "    plt.ylabel(\"Count\", fontsize=15)\n",
    "\n",
    "    plt.show()\n",
    "    \n",
    "print ('Training Set:');\n",
    "print (class_imbalance(df));"
   ]
  },
  {
   "cell_type": "markdown",
   "metadata": {},
   "source": [
    "You will notice that there is class imbalance among the 8 categories.  We will address this later by applying weights to each class when building our model."
   ]
  },
  {
   "cell_type": "markdown",
   "metadata": {},
   "source": [
    "#### Exploring image Dimensions"
   ]
  },
  {
   "cell_type": "code",
   "execution_count": 48,
   "metadata": {
    "collapsed": false
   },
   "outputs": [
    {
     "name": "stdout",
     "output_type": "stream",
     "text": [
      "SHAPE: (500, 375, 3)\n",
      "FLATTENED: [164 122  84 ..., 113  61  22]\n",
      "SHAPE: (500, 375, 3)\n",
      "FLATTENED: [16  9  3 ..., 12 14 11]\n",
      "SHAPE: (375, 500, 3)\n",
      "FLATTENED: [ 31  20  18 ..., 164 176 172]\n",
      "SHAPE: (332, 500, 3)\n",
      "FLATTENED: [ 9  5  6 ..., 16  5 11]\n",
      "SHAPE: (500, 375, 3)\n",
      "FLATTENED: [186 146 134 ..., 122 117 123]\n"
     ]
    }
   ],
   "source": [
    "from scipy.misc import imread\n",
    "few = actual_photos[0:5]\n",
    "for num in few:\n",
    "    img = imread('/home/chaserenick/train_photos/' + str(num) + '.jpg')\n",
    "    print (\"SHAPE:\", img.shape)\n",
    "    print (\"FLATTENED:\",img.flatten())"
   ]
  },
  {
   "cell_type": "markdown",
   "metadata": {},
   "source": [
    "#### Take this random image from the Training Set"
   ]
  },
  {
   "cell_type": "code",
   "execution_count": 49,
   "metadata": {
    "collapsed": false
   },
   "outputs": [
    {
     "name": "stdout",
     "output_type": "stream",
     "text": [
      "(500, 375, 3)\n"
     ]
    },
    {
     "data": {
      "image/png": "[encoded data removed]",
      "text/plain": [
       "<PIL.Image.Image image mode=RGB size=375x500 at 0x7F5D77B91128>"
      ]
     },
     "execution_count": 49,
     "metadata": {},
     "output_type": "execute_result"
    }
   ],
   "source": [
    "from keras.preprocessing.image import array_to_img\n",
    "i = array_to_img(img)\n",
    "print (img.shape)\n",
    "i"
   ]
  },
  {
   "cell_type": "markdown",
   "metadata": {},
   "source": [
    "#### Finding The Right Photos "
   ]
  },
  {
   "cell_type": "code",
   "execution_count": 50,
   "metadata": {
    "collapsed": false
   },
   "outputs": [
    {
     "data": {
      "text/plain": [
       "[252631,\n",
       " 74568,\n",
       " 79114,\n",
       " 375176,\n",
       " 198286,\n",
       " 244314,\n",
       " 430847,\n",
       " 178578,\n",
       " 419794,\n",
       " 234870,\n",
       " 127108,\n",
       " 242916,\n",
       " 432679,\n",
       " 186745,\n",
       " 308670,\n",
       " 232768,\n",
       " 94043,\n",
       " 99848,\n",
       " 85061,\n",
       " 224938,\n",
       " 64623]"
      ]
     },
     "execution_count": 50,
     "metadata": {},
     "output_type": "execute_result"
    }
   ],
   "source": [
    "def get_photo_id_train(bus_id_num):\n",
    "    \n",
    "    \"\"\"INPUT: Put the integer value of Business ID\n",
    "    OUTPUT: A List of photo IDS associated with that business\"\"\"\n",
    "    \n",
    "    return (list(photo_to_biz.loc[photo_to_biz['business_id'] == bus_id_num]['photo_id']))\n",
    "\n",
    "get_photo_id_train(7)"
   ]
  },
  {
   "cell_type": "markdown",
   "metadata": {},
   "source": [
    "The problem though is that not all of these picture ids are in the training set of photos Yelp provided us.  That sucks. So we have to find which ones are there and which ones are not, and make a new dataframe."
   ]
  },
  {
   "cell_type": "markdown",
   "metadata": {},
   "source": [
    "#### Finding actual images provided within the train and test photo id dataframes "
   ]
  },
  {
   "cell_type": "code",
   "execution_count": 51,
   "metadata": {
    "collapsed": true
   },
   "outputs": [],
   "source": [
    "df_bus_pho_id = photo_to_biz[photo_to_biz['photo_id'].isin(actual_photos)]\n",
    "df_test_pho_id = test_photo_to_biz[test_photo_to_biz['photo_id'].isin(test_photos)]"
   ]
  },
  {
   "cell_type": "code",
   "execution_count": 52,
   "metadata": {
    "collapsed": false
   },
   "outputs": [
    {
     "data": {
      "text/html": [
       "<div>\n",
       "<style>\n",
       "    .dataframe thead tr:only-child th {\n",
       "        text-align: right;\n",
       "    }\n",
       "\n",
       "    .dataframe thead th {\n",
       "        text-align: left;\n",
       "    }\n",
       "\n",
       "    .dataframe tbody tr th {\n",
       "        vertical-align: top;\n",
       "    }\n",
       "</style>\n",
       "<table border=\"1\" class=\"dataframe\">\n",
       "  <thead>\n",
       "    <tr style=\"text-align: right;\">\n",
       "      <th></th>\n",
       "      <th>photo_id</th>\n",
       "      <th>business_id</th>\n",
       "    </tr>\n",
       "  </thead>\n",
       "  <tbody>\n",
       "    <tr>\n",
       "      <th>129083</th>\n",
       "      <td>1</td>\n",
       "      <td>3tv9h</td>\n",
       "    </tr>\n",
       "    <tr>\n",
       "      <th>455577</th>\n",
       "      <td>11</td>\n",
       "      <td>dicqg</td>\n",
       "    </tr>\n",
       "    <tr>\n",
       "      <th>692817</th>\n",
       "      <td>100</td>\n",
       "      <td>koxa6</td>\n",
       "    </tr>\n",
       "    <tr>\n",
       "      <th>230936</th>\n",
       "      <td>101</td>\n",
       "      <td>6q6fx</td>\n",
       "    </tr>\n",
       "    <tr>\n",
       "      <th>643345</th>\n",
       "      <td>105</td>\n",
       "      <td>jag3x</td>\n",
       "    </tr>\n",
       "  </tbody>\n",
       "</table>\n",
       "</div>"
      ],
      "text/plain": [
       "        photo_id business_id\n",
       "129083         1       3tv9h\n",
       "455577        11       dicqg\n",
       "692817       100       koxa6\n",
       "230936       101       6q6fx\n",
       "643345       105       jag3x"
      ]
     },
     "execution_count": 52,
     "metadata": {},
     "output_type": "execute_result"
    }
   ],
   "source": [
    "df_bus_pho_id = df_bus_pho_id.sort_values('photo_id')\n",
    "reduced_test_pho_biz = df_test_pho_id.loc[~df_test_pho_id['photo_id'].duplicated()] # Gets Rid of Duplicates in Test Set\n",
    "reduced_test_pho_biz = reduced_test_pho_biz.sort_values('photo_id')\n",
    "reduced_test_pho_biz.head()"
   ]
  },
  {
   "cell_type": "markdown",
   "metadata": {},
   "source": [
    "#### Adding JPG Columns to Test and Train Set to Verify Correct Business ID"
   ]
  },
  {
   "cell_type": "code",
   "execution_count": 53,
   "metadata": {
    "collapsed": true
   },
   "outputs": [],
   "source": [
    "df_bus_pho_id['jpg_num'] = actual_photos\n",
    "reduced_test_pho_biz['jpg_num'] = test_photos"
   ]
  },
  {
   "cell_type": "markdown",
   "metadata": {},
   "source": [
    "#### Verifying Dimensions for Training & Test Set"
   ]
  },
  {
   "cell_type": "code",
   "execution_count": 54,
   "metadata": {
    "collapsed": false
   },
   "outputs": [
    {
     "name": "stdout",
     "output_type": "stream",
     "text": [
      "7458 7458\n",
      "8303 8303\n"
     ]
    }
   ],
   "source": [
    "print (len(df_bus_pho_id),len(actual_photos))\n",
    "print (len(reduced_test_pho_biz),len(test_photos))"
   ]
  },
  {
   "cell_type": "markdown",
   "metadata": {},
   "source": [
    "### Train Dataframe with labels"
   ]
  },
  {
   "cell_type": "code",
   "execution_count": 55,
   "metadata": {
    "collapsed": false
   },
   "outputs": [
    {
     "data": {
      "text/html": [
       "<div>\n",
       "<style>\n",
       "    .dataframe thead tr:only-child th {\n",
       "        text-align: right;\n",
       "    }\n",
       "\n",
       "    .dataframe thead th {\n",
       "        text-align: left;\n",
       "    }\n",
       "\n",
       "    .dataframe tbody tr th {\n",
       "        vertical-align: top;\n",
       "    }\n",
       "</style>\n",
       "<table border=\"1\" class=\"dataframe\">\n",
       "  <thead>\n",
       "    <tr style=\"text-align: right;\">\n",
       "      <th></th>\n",
       "      <th>business_id</th>\n",
       "      <th>labels</th>\n",
       "    </tr>\n",
       "  </thead>\n",
       "  <tbody>\n",
       "    <tr>\n",
       "      <th>1539</th>\n",
       "      <td>3</td>\n",
       "      <td>0 8</td>\n",
       "    </tr>\n",
       "    <tr>\n",
       "      <th>1687</th>\n",
       "      <td>4</td>\n",
       "      <td>1 2 4 5 6</td>\n",
       "    </tr>\n",
       "    <tr>\n",
       "      <th>1752</th>\n",
       "      <td>5</td>\n",
       "      <td>1 2 4 5 6 7</td>\n",
       "    </tr>\n",
       "    <tr>\n",
       "      <th>1772</th>\n",
       "      <td>6</td>\n",
       "      <td>0 1 6 8</td>\n",
       "    </tr>\n",
       "    <tr>\n",
       "      <th>1904</th>\n",
       "      <td>8</td>\n",
       "      <td>1 2 4 5 6 7</td>\n",
       "    </tr>\n",
       "  </tbody>\n",
       "</table>\n",
       "</div>"
      ],
      "text/plain": [
       "      business_id       labels\n",
       "1539            3          0 8\n",
       "1687            4    1 2 4 5 6\n",
       "1752            5  1 2 4 5 6 7\n",
       "1772            6      0 1 6 8\n",
       "1904            8  1 2 4 5 6 7"
      ]
     },
     "execution_count": 55,
     "metadata": {},
     "output_type": "execute_result"
    }
   ],
   "source": [
    "df_bus_pho_id = df_bus_pho_id.sort_values('business_id')\n",
    "uniq_bus = df_bus_pho_id.sort_values('business_id')\n",
    "uniq_bus = list(uniq_bus.business_id.unique())\n",
    "uniq_bus = df[df['business_id'].isin(uniq_bus)]\n",
    "uniq_bus = uniq_bus.sort_values('business_id')\n",
    "uniq_bus.head()"
   ]
  },
  {
   "cell_type": "markdown",
   "metadata": {},
   "source": [
    "####  Constructing a dataframe of unique businesses with pictures and their corresponding labels"
   ]
  },
  {
   "cell_type": "code",
   "execution_count": 56,
   "metadata": {
    "collapsed": false
   },
   "outputs": [
    {
     "data": {
      "text/html": [
       "<div>\n",
       "<style>\n",
       "    .dataframe thead tr:only-child th {\n",
       "        text-align: right;\n",
       "    }\n",
       "\n",
       "    .dataframe thead th {\n",
       "        text-align: left;\n",
       "    }\n",
       "\n",
       "    .dataframe tbody tr th {\n",
       "        vertical-align: top;\n",
       "    }\n",
       "</style>\n",
       "<table border=\"1\" class=\"dataframe\">\n",
       "  <thead>\n",
       "    <tr style=\"text-align: right;\">\n",
       "      <th></th>\n",
       "      <th>business_id</th>\n",
       "      <th>labels</th>\n",
       "    </tr>\n",
       "  </thead>\n",
       "  <tbody>\n",
       "    <tr>\n",
       "      <th>1539</th>\n",
       "      <td>3</td>\n",
       "      <td>0 8</td>\n",
       "    </tr>\n",
       "    <tr>\n",
       "      <th>1687</th>\n",
       "      <td>4</td>\n",
       "      <td>1 2 4 5 6</td>\n",
       "    </tr>\n",
       "    <tr>\n",
       "      <th>1687</th>\n",
       "      <td>4</td>\n",
       "      <td>1 2 4 5 6</td>\n",
       "    </tr>\n",
       "    <tr>\n",
       "      <th>1687</th>\n",
       "      <td>4</td>\n",
       "      <td>1 2 4 5 6</td>\n",
       "    </tr>\n",
       "    <tr>\n",
       "      <th>1687</th>\n",
       "      <td>4</td>\n",
       "      <td>1 2 4 5 6</td>\n",
       "    </tr>\n",
       "  </tbody>\n",
       "</table>\n",
       "</div>"
      ],
      "text/plain": [
       "      business_id     labels\n",
       "1539            3        0 8\n",
       "1687            4  1 2 4 5 6\n",
       "1687            4  1 2 4 5 6\n",
       "1687            4  1 2 4 5 6\n",
       "1687            4  1 2 4 5 6"
      ]
     },
     "execution_count": 56,
     "metadata": {},
     "output_type": "execute_result"
    }
   ],
   "source": [
    "new_df = []\n",
    "\n",
    "for num in df_bus_pho_id['business_id']:\n",
    "    if num in uniq_bus['business_id'].values:\n",
    "        \n",
    "        m = uniq_bus[uniq_bus['business_id']==num]\n",
    "        new_df.append(m)\n",
    "    else:\n",
    "        pass\n",
    "    \n",
    "new_df = pd.concat(new_df)\n",
    "new_df = new_df.sort_values('business_id')\n",
    "new_df.head()"
   ]
  },
  {
   "cell_type": "markdown",
   "metadata": {},
   "source": [
    "#### Not the best join method but it works"
   ]
  },
  {
   "cell_type": "code",
   "execution_count": 57,
   "metadata": {
    "collapsed": false
   },
   "outputs": [
    {
     "data": {
      "text/html": [
       "<div>\n",
       "<style>\n",
       "    .dataframe thead tr:only-child th {\n",
       "        text-align: right;\n",
       "    }\n",
       "\n",
       "    .dataframe thead th {\n",
       "        text-align: left;\n",
       "    }\n",
       "\n",
       "    .dataframe tbody tr th {\n",
       "        vertical-align: top;\n",
       "    }\n",
       "</style>\n",
       "<table border=\"1\" class=\"dataframe\">\n",
       "  <thead>\n",
       "    <tr style=\"text-align: right;\">\n",
       "      <th></th>\n",
       "      <th>photo_id</th>\n",
       "      <th>business_id</th>\n",
       "      <th>jpg_num</th>\n",
       "      <th>labels</th>\n",
       "    </tr>\n",
       "  </thead>\n",
       "  <tbody>\n",
       "    <tr>\n",
       "      <th>174629</th>\n",
       "      <td>105027</td>\n",
       "      <td>3</td>\n",
       "      <td>105027</td>\n",
       "      <td>0 8</td>\n",
       "    </tr>\n",
       "    <tr>\n",
       "      <th>20012</th>\n",
       "      <td>103565</td>\n",
       "      <td>4</td>\n",
       "      <td>103565</td>\n",
       "      <td>1 2 4 5 6</td>\n",
       "    </tr>\n",
       "    <tr>\n",
       "      <th>68303</th>\n",
       "      <td>107490</td>\n",
       "      <td>4</td>\n",
       "      <td>107490</td>\n",
       "      <td>1 2 4 5 6</td>\n",
       "    </tr>\n",
       "    <tr>\n",
       "      <th>62237</th>\n",
       "      <td>112016</td>\n",
       "      <td>4</td>\n",
       "      <td>112016</td>\n",
       "      <td>1 2 4 5 6</td>\n",
       "    </tr>\n",
       "    <tr>\n",
       "      <th>50634</th>\n",
       "      <td>111035</td>\n",
       "      <td>4</td>\n",
       "      <td>111035</td>\n",
       "      <td>1 2 4 5 6</td>\n",
       "    </tr>\n",
       "  </tbody>\n",
       "</table>\n",
       "</div>"
      ],
      "text/plain": [
       "        photo_id  business_id  jpg_num     labels\n",
       "174629    105027            3   105027        0 8\n",
       "20012     103565            4   103565  1 2 4 5 6\n",
       "68303     107490            4   107490  1 2 4 5 6\n",
       "62237     112016            4   112016  1 2 4 5 6\n",
       "50634     111035            4   111035  1 2 4 5 6"
      ]
     },
     "execution_count": 57,
     "metadata": {},
     "output_type": "execute_result"
    }
   ],
   "source": [
    "df_bus_pho_id['labels'] = list(new_df['labels'][0:])\n",
    "df_bus_pho_id.head()"
   ]
  },
  {
   "cell_type": "code",
   "execution_count": 58,
   "metadata": {
    "collapsed": true
   },
   "outputs": [],
   "source": [
    "one_hot = df_bus_pho_id\n",
    "one_hot = one_hot.dropna()\n",
    "a = one_hot['labels']\n",
    "experiment = a[:]"
   ]
  },
  {
   "cell_type": "markdown",
   "metadata": {},
   "source": [
    "#### Function for Creating Binary Labels from String Labels"
   ]
  },
  {
   "cell_type": "code",
   "execution_count": 59,
   "metadata": {
    "collapsed": true
   },
   "outputs": [],
   "source": [
    "def better_labels(labels):\n",
    "    \n",
    "    \"\"\"INPUT: Take in a string of labels\n",
    "    OUTPUT: Breaks them up so that each label is binary \"\"\"\n",
    "\n",
    "    has_table_service = []\n",
    "    has_alcohol = []\n",
    "    good_for_kids = []\n",
    "    takes_reservations = []\n",
    "    outdoor_seating = []\n",
    "    good_for_dinner = []\n",
    "    good_for_lunch = []\n",
    "    ambience_is_classy = []\n",
    "    restaurant_is_expensive = []\n",
    "\n",
    "    for num in labels:\n",
    "        vals = num.split()\n",
    "\n",
    "        if '6' in vals:\n",
    "            has_table_service.append(1)\n",
    "        else:\n",
    "            has_table_service.append(0)\n",
    "\n",
    "        if '5' in vals:\n",
    "            has_alcohol.append(1)\n",
    "        else:\n",
    "            has_alcohol.append(0)\n",
    "\n",
    "        if '8' in vals:\n",
    "            good_for_kids.append(1)\n",
    "        else:\n",
    "            good_for_kids.append(0)\n",
    "\n",
    "        if '2' in vals:\n",
    "            takes_reservations.append(1)\n",
    "        else:\n",
    "            takes_reservations.append(0)\n",
    "\n",
    "        if '3' in vals:\n",
    "            outdoor_seating.append(1)\n",
    "        else:\n",
    "            outdoor_seating.append(0)\n",
    "\n",
    "        if '1' in vals:\n",
    "            good_for_dinner.append(1)\n",
    "        else:\n",
    "            good_for_dinner.append(0)\n",
    "\n",
    "        if '0' in vals:\n",
    "            good_for_lunch.append(1)\n",
    "        else:\n",
    "            good_for_lunch.append(0)\n",
    "\n",
    "        if '7' in vals:\n",
    "            ambience_is_classy.append(1)\n",
    "        else:\n",
    "            ambience_is_classy.append(0)\n",
    "\n",
    "        if '4' in vals:\n",
    "            restaurant_is_expensive.append(1)\n",
    "        else:\n",
    "            restaurant_is_expensive.append(0)\n",
    "\n",
    "        if 'nan' in vals:\n",
    "            pass\n",
    "        else:\n",
    "            pass\n",
    "        \n",
    "    return has_table_service,has_alcohol,good_for_kids,takes_reservations,outdoor_seating,good_for_dinner,good_for_lunch,ambience_is_classy,restaurant_is_expensive"
   ]
  },
  {
   "cell_type": "code",
   "execution_count": 60,
   "metadata": {
    "collapsed": false
   },
   "outputs": [
    {
     "name": "stderr",
     "output_type": "stream",
     "text": [
      "/home/chaserenick/anaconda3/lib/python3.6/site-packages/ipykernel_launcher.py:5: SettingWithCopyWarning: \n",
      "A value is trying to be set on a copy of a slice from a DataFrame.\n",
      "Try using .loc[row_indexer,col_indexer] = value instead\n",
      "\n",
      "See the caveats in the documentation: http://pandas.pydata.org/pandas-docs/stable/indexing.html#indexing-view-versus-copy\n",
      "  \"\"\"\n",
      "/home/chaserenick/anaconda3/lib/python3.6/site-packages/ipykernel_launcher.py:6: SettingWithCopyWarning: \n",
      "A value is trying to be set on a copy of a slice from a DataFrame.\n",
      "Try using .loc[row_indexer,col_indexer] = value instead\n",
      "\n",
      "See the caveats in the documentation: http://pandas.pydata.org/pandas-docs/stable/indexing.html#indexing-view-versus-copy\n",
      "  \n",
      "/home/chaserenick/anaconda3/lib/python3.6/site-packages/ipykernel_launcher.py:7: SettingWithCopyWarning: \n",
      "A value is trying to be set on a copy of a slice from a DataFrame.\n",
      "Try using .loc[row_indexer,col_indexer] = value instead\n",
      "\n",
      "See the caveats in the documentation: http://pandas.pydata.org/pandas-docs/stable/indexing.html#indexing-view-versus-copy\n",
      "  import sys\n",
      "/home/chaserenick/anaconda3/lib/python3.6/site-packages/ipykernel_launcher.py:8: SettingWithCopyWarning: \n",
      "A value is trying to be set on a copy of a slice from a DataFrame.\n",
      "Try using .loc[row_indexer,col_indexer] = value instead\n",
      "\n",
      "See the caveats in the documentation: http://pandas.pydata.org/pandas-docs/stable/indexing.html#indexing-view-versus-copy\n",
      "  \n",
      "/home/chaserenick/anaconda3/lib/python3.6/site-packages/ipykernel_launcher.py:9: SettingWithCopyWarning: \n",
      "A value is trying to be set on a copy of a slice from a DataFrame.\n",
      "Try using .loc[row_indexer,col_indexer] = value instead\n",
      "\n",
      "See the caveats in the documentation: http://pandas.pydata.org/pandas-docs/stable/indexing.html#indexing-view-versus-copy\n",
      "  if __name__ == '__main__':\n",
      "/home/chaserenick/anaconda3/lib/python3.6/site-packages/ipykernel_launcher.py:10: SettingWithCopyWarning: \n",
      "A value is trying to be set on a copy of a slice from a DataFrame.\n",
      "Try using .loc[row_indexer,col_indexer] = value instead\n",
      "\n",
      "See the caveats in the documentation: http://pandas.pydata.org/pandas-docs/stable/indexing.html#indexing-view-versus-copy\n",
      "  # Remove the CWD from sys.path while we load stuff.\n",
      "/home/chaserenick/anaconda3/lib/python3.6/site-packages/ipykernel_launcher.py:11: SettingWithCopyWarning: \n",
      "A value is trying to be set on a copy of a slice from a DataFrame.\n",
      "Try using .loc[row_indexer,col_indexer] = value instead\n",
      "\n",
      "See the caveats in the documentation: http://pandas.pydata.org/pandas-docs/stable/indexing.html#indexing-view-versus-copy\n",
      "  # This is added back by InteractiveShellApp.init_path()\n",
      "/home/chaserenick/anaconda3/lib/python3.6/site-packages/ipykernel_launcher.py:12: SettingWithCopyWarning: \n",
      "A value is trying to be set on a copy of a slice from a DataFrame.\n",
      "Try using .loc[row_indexer,col_indexer] = value instead\n",
      "\n",
      "See the caveats in the documentation: http://pandas.pydata.org/pandas-docs/stable/indexing.html#indexing-view-versus-copy\n",
      "  if sys.path[0] == '':\n",
      "/home/chaserenick/anaconda3/lib/python3.6/site-packages/ipykernel_launcher.py:13: SettingWithCopyWarning: \n",
      "A value is trying to be set on a copy of a slice from a DataFrame.\n",
      "Try using .loc[row_indexer,col_indexer] = value instead\n",
      "\n",
      "See the caveats in the documentation: http://pandas.pydata.org/pandas-docs/stable/indexing.html#indexing-view-versus-copy\n",
      "  del sys.path[0]\n"
     ]
    }
   ],
   "source": [
    "has_table_service,has_alcohol,good_for_kids,takes_reservations,outdoor_seating,good_for_dinner,good_for_lunch,ambience_is_classy,restaurant_is_expensive = better_labels(experiment)\n",
    "\n",
    "del one_hot['labels'] # Removes column of string labels and replaces them with the following\n",
    "\n",
    "one_hot['has_table_service'] = has_table_service\n",
    "one_hot['has_alcohol'] = has_alcohol\n",
    "one_hot['good_for_kids'] = good_for_kids\n",
    "one_hot['takes_reservations'] = takes_reservations\n",
    "one_hot['outdoor_seating'] = outdoor_seating\n",
    "one_hot['good_for_dinner'] = good_for_dinner\n",
    "one_hot['good_for_lunch'] = good_for_lunch\n",
    "one_hot['ambience_is_classy'] = ambience_is_classy\n",
    "one_hot['restaurant_is_expensive'] = restaurant_is_expensive"
   ]
  },
  {
   "cell_type": "markdown",
   "metadata": {},
   "source": [
    "#### Cleaned Training Set with Binary Labels"
   ]
  },
  {
   "cell_type": "code",
   "execution_count": 61,
   "metadata": {
    "collapsed": false
   },
   "outputs": [
    {
     "data": {
      "text/html": [
       "<div>\n",
       "<style>\n",
       "    .dataframe thead tr:only-child th {\n",
       "        text-align: right;\n",
       "    }\n",
       "\n",
       "    .dataframe thead th {\n",
       "        text-align: left;\n",
       "    }\n",
       "\n",
       "    .dataframe tbody tr th {\n",
       "        vertical-align: top;\n",
       "    }\n",
       "</style>\n",
       "<table border=\"1\" class=\"dataframe\">\n",
       "  <thead>\n",
       "    <tr style=\"text-align: right;\">\n",
       "      <th></th>\n",
       "      <th>photo_id</th>\n",
       "      <th>business_id</th>\n",
       "      <th>jpg_num</th>\n",
       "      <th>has_table_service</th>\n",
       "      <th>has_alcohol</th>\n",
       "      <th>good_for_kids</th>\n",
       "      <th>takes_reservations</th>\n",
       "      <th>outdoor_seating</th>\n",
       "      <th>good_for_dinner</th>\n",
       "      <th>good_for_lunch</th>\n",
       "      <th>ambience_is_classy</th>\n",
       "      <th>restaurant_is_expensive</th>\n",
       "    </tr>\n",
       "  </thead>\n",
       "  <tbody>\n",
       "    <tr>\n",
       "      <th>89379</th>\n",
       "      <td>10</td>\n",
       "      <td>242</td>\n",
       "      <td>10</td>\n",
       "      <td>1</td>\n",
       "      <td>1</td>\n",
       "      <td>1</td>\n",
       "      <td>1</td>\n",
       "      <td>0</td>\n",
       "      <td>0</td>\n",
       "      <td>1</td>\n",
       "      <td>0</td>\n",
       "      <td>0</td>\n",
       "    </tr>\n",
       "    <tr>\n",
       "      <th>34242</th>\n",
       "      <td>102</td>\n",
       "      <td>2611</td>\n",
       "      <td>102</td>\n",
       "      <td>1</td>\n",
       "      <td>1</td>\n",
       "      <td>0</td>\n",
       "      <td>1</td>\n",
       "      <td>0</td>\n",
       "      <td>1</td>\n",
       "      <td>0</td>\n",
       "      <td>1</td>\n",
       "      <td>1</td>\n",
       "    </tr>\n",
       "    <tr>\n",
       "      <th>168973</th>\n",
       "      <td>103</td>\n",
       "      <td>428</td>\n",
       "      <td>103</td>\n",
       "      <td>1</td>\n",
       "      <td>1</td>\n",
       "      <td>1</td>\n",
       "      <td>1</td>\n",
       "      <td>0</td>\n",
       "      <td>0</td>\n",
       "      <td>1</td>\n",
       "      <td>0</td>\n",
       "      <td>0</td>\n",
       "    </tr>\n",
       "    <tr>\n",
       "      <th>220509</th>\n",
       "      <td>104</td>\n",
       "      <td>3580</td>\n",
       "      <td>104</td>\n",
       "      <td>0</td>\n",
       "      <td>1</td>\n",
       "      <td>0</td>\n",
       "      <td>1</td>\n",
       "      <td>0</td>\n",
       "      <td>0</td>\n",
       "      <td>0</td>\n",
       "      <td>1</td>\n",
       "      <td>0</td>\n",
       "    </tr>\n",
       "    <tr>\n",
       "      <th>196072</th>\n",
       "      <td>109</td>\n",
       "      <td>2014</td>\n",
       "      <td>109</td>\n",
       "      <td>1</td>\n",
       "      <td>1</td>\n",
       "      <td>0</td>\n",
       "      <td>1</td>\n",
       "      <td>0</td>\n",
       "      <td>1</td>\n",
       "      <td>0</td>\n",
       "      <td>0</td>\n",
       "      <td>1</td>\n",
       "    </tr>\n",
       "  </tbody>\n",
       "</table>\n",
       "</div>"
      ],
      "text/plain": [
       "        photo_id  business_id  jpg_num  has_table_service  has_alcohol  \\\n",
       "89379         10          242       10                  1            1   \n",
       "34242        102         2611      102                  1            1   \n",
       "168973       103          428      103                  1            1   \n",
       "220509       104         3580      104                  0            1   \n",
       "196072       109         2014      109                  1            1   \n",
       "\n",
       "        good_for_kids  takes_reservations  outdoor_seating  good_for_dinner  \\\n",
       "89379               1                   1                0                0   \n",
       "34242               0                   1                0                1   \n",
       "168973              1                   1                0                0   \n",
       "220509              0                   1                0                0   \n",
       "196072              0                   1                0                1   \n",
       "\n",
       "        good_for_lunch  ambience_is_classy  restaurant_is_expensive  \n",
       "89379                1                   0                        0  \n",
       "34242                0                   1                        1  \n",
       "168973               1                   0                        0  \n",
       "220509               0                   1                        0  \n",
       "196072               0                   0                        1  "
      ]
     },
     "execution_count": 61,
     "metadata": {},
     "output_type": "execute_result"
    }
   ],
   "source": [
    "sorted_one_hot = one_hot.sort_values('jpg_num')\n",
    "sorted_one_hot.head()"
   ]
  },
  {
   "cell_type": "markdown",
   "metadata": {},
   "source": [
    "#### Cleaned Test Set with Binary Labels"
   ]
  },
  {
   "cell_type": "code",
   "execution_count": 66,
   "metadata": {
    "collapsed": false
   },
   "outputs": [
    {
     "data": {
      "text/html": [
       "<div>\n",
       "<style>\n",
       "    .dataframe thead tr:only-child th {\n",
       "        text-align: right;\n",
       "    }\n",
       "\n",
       "    .dataframe thead th {\n",
       "        text-align: left;\n",
       "    }\n",
       "\n",
       "    .dataframe tbody tr th {\n",
       "        vertical-align: top;\n",
       "    }\n",
       "</style>\n",
       "<table border=\"1\" class=\"dataframe\">\n",
       "  <thead>\n",
       "    <tr style=\"text-align: right;\">\n",
       "      <th></th>\n",
       "      <th>photo_id</th>\n",
       "      <th>business_id</th>\n",
       "      <th>jpg_num</th>\n",
       "      <th>has_table_service</th>\n",
       "      <th>has_alcohol</th>\n",
       "      <th>good_for_kids</th>\n",
       "      <th>takes_reservations</th>\n",
       "      <th>outdoor_seating</th>\n",
       "      <th>good_for_dinner</th>\n",
       "      <th>good_for_lunch</th>\n",
       "      <th>ambience_is_classy</th>\n",
       "    </tr>\n",
       "  </thead>\n",
       "  <tbody>\n",
       "    <tr>\n",
       "      <th>15</th>\n",
       "      <td>113977</td>\n",
       "      <td>003sg</td>\n",
       "      <td>113977</td>\n",
       "      <td>0</td>\n",
       "      <td>0</td>\n",
       "      <td>0</td>\n",
       "      <td>1</td>\n",
       "      <td>1</td>\n",
       "      <td>1</td>\n",
       "      <td>0</td>\n",
       "      <td>0</td>\n",
       "    </tr>\n",
       "    <tr>\n",
       "      <th>330</th>\n",
       "      <td>113183</td>\n",
       "      <td>00er5</td>\n",
       "      <td>113183</td>\n",
       "      <td>0</td>\n",
       "      <td>0</td>\n",
       "      <td>0</td>\n",
       "      <td>1</td>\n",
       "      <td>1</td>\n",
       "      <td>1</td>\n",
       "      <td>0</td>\n",
       "      <td>0</td>\n",
       "    </tr>\n",
       "    <tr>\n",
       "      <th>418</th>\n",
       "      <td>114583</td>\n",
       "      <td>00kad</td>\n",
       "      <td>114583</td>\n",
       "      <td>0</td>\n",
       "      <td>0</td>\n",
       "      <td>0</td>\n",
       "      <td>1</td>\n",
       "      <td>1</td>\n",
       "      <td>1</td>\n",
       "      <td>0</td>\n",
       "      <td>0</td>\n",
       "    </tr>\n",
       "    <tr>\n",
       "      <th>472</th>\n",
       "      <td>114684</td>\n",
       "      <td>00mc6</td>\n",
       "      <td>114684</td>\n",
       "      <td>0</td>\n",
       "      <td>0</td>\n",
       "      <td>0</td>\n",
       "      <td>1</td>\n",
       "      <td>1</td>\n",
       "      <td>1</td>\n",
       "      <td>0</td>\n",
       "      <td>0</td>\n",
       "    </tr>\n",
       "    <tr>\n",
       "      <th>514</th>\n",
       "      <td>10549</td>\n",
       "      <td>00v0t</td>\n",
       "      <td>10549</td>\n",
       "      <td>0</td>\n",
       "      <td>0</td>\n",
       "      <td>0</td>\n",
       "      <td>1</td>\n",
       "      <td>1</td>\n",
       "      <td>1</td>\n",
       "      <td>0</td>\n",
       "      <td>0</td>\n",
       "    </tr>\n",
       "  </tbody>\n",
       "</table>\n",
       "</div>"
      ],
      "text/plain": [
       "     photo_id business_id  jpg_num  has_table_service  has_alcohol  \\\n",
       "15     113977       003sg   113977                  0            0   \n",
       "330    113183       00er5   113183                  0            0   \n",
       "418    114583       00kad   114583                  0            0   \n",
       "472    114684       00mc6   114684                  0            0   \n",
       "514     10549       00v0t    10549                  0            0   \n",
       "\n",
       "     good_for_kids  takes_reservations  outdoor_seating  good_for_dinner  \\\n",
       "15               0                   1                1                1   \n",
       "330              0                   1                1                1   \n",
       "418              0                   1                1                1   \n",
       "472              0                   1                1                1   \n",
       "514              0                   1                1                1   \n",
       "\n",
       "     good_for_lunch  ambience_is_classy  \n",
       "15                0                   0  \n",
       "330               0                   0  \n",
       "418               0                   0  \n",
       "472               0                   0  \n",
       "514               0                   0  "
      ]
     },
     "execution_count": 66,
     "metadata": {},
     "output_type": "execute_result"
    }
   ],
   "source": [
    "reduced_test_pho_biz.head()"
   ]
  },
  {
   "cell_type": "code",
   "execution_count": 67,
   "metadata": {
    "collapsed": false
   },
   "outputs": [
    {
     "data": {
      "text/plain": [
       "(2881, 11)"
      ]
     },
     "execution_count": 67,
     "metadata": {},
     "output_type": "execute_result"
    }
   ],
   "source": [
    "reduced_test_pho_biz.shape"
   ]
  },
  {
   "cell_type": "markdown",
   "metadata": {},
   "source": [
    "#### Determining max and min for dimensions among all images"
   ]
  },
  {
   "cell_type": "code",
   "execution_count": 31,
   "metadata": {
    "collapsed": true
   },
   "outputs": [],
   "source": [
    "from scipy.misc import imread\n",
    "\n",
    "train_batch = sorted_one_hot[:100]\n",
    "test_batch = reduced_test_pho_biz[:100]\n",
    "\n",
    "def train_dimensions(df):\n",
    "    height_dic = Counter ()\n",
    "    width_dic = Counter()\n",
    "    \n",
    "    for num in df['jpg_num']:\n",
    "        img = imread('/home/chaserenick/train_photos/' + str(num) + '.jpg')\n",
    "        img = imread('/home/chaserenick/test_photos/' + str(num) + '.jpg')\n",
    "        height,width,depth = img.shape \n",
    "        height_dic[height] += 1\n",
    "        width_dic[width] += 1\n",
    "    \n",
    "    return (height_dic),(width_dic)\n",
    "\n",
    "train_height, train_width = train_dimensions(train_batch)\n",
    "test_height, test_width = test_dimensions(test_batch)"
   ]
  },
  {
   "cell_type": "markdown",
   "metadata": {},
   "source": [
    "### Examining Distributions in Train and Test"
   ]
  },
  {
   "cell_type": "code",
   "execution_count": 33,
   "metadata": {
    "collapsed": false
   },
   "outputs": [
    {
     "data": {
      "image/png": "[encoded data removed]",
      "text/plain": [
       "<matplotlib.figure.Figure at 0x7f5d5e4c3f60>"
      ]
     },
     "metadata": {},
     "output_type": "display_data"
    }
   ],
   "source": [
    "dic_tr_height = pd.Series(train_height)\n",
    "dic_tr_height = ((dic_tr_height / len(dic_tr_height))*100)\n",
    "\n",
    "dic_tr_height.plot(kind='bar', figsize=[20,20], legend=True)\n",
    "plt.title(\"Class Distribution of Train Height\", fontsize=20)\n",
    "plt.xlabel('Image Heights', fontsize= 15)\n",
    "plt.ylabel('Percentage', fontsize=15);\n",
    "plt.legend('Count');"
   ]
  },
  {
   "cell_type": "code",
   "execution_count": 34,
   "metadata": {
    "collapsed": false
   },
   "outputs": [
    {
     "data": {
      "image/png": "[encoded data removed]",
      "text/plain": [
       "<matplotlib.figure.Figure at 0x7f5d56fb3b38>"
      ]
     },
     "metadata": {},
     "output_type": "display_data"
    }
   ],
   "source": [
    "dic_tr_width = pd.Series(train_width)\n",
    "dic_tr_width = ((dic_tr_width / len(dic_tr_width))*100)\n",
    "\n",
    "dic_tr_width.plot(kind='bar', figsize=[20,20], legend=True)\n",
    "plt.title(\"Class Distribution of Train width\", fontsize=20)\n",
    "plt.xlabel('Image Heights', fontsize= 15)\n",
    "plt.ylabel('Percentage', fontsize=15);\n",
    "plt.legend('Count');"
   ]
  },
  {
   "cell_type": "code",
   "execution_count": 35,
   "metadata": {
    "collapsed": false
   },
   "outputs": [
    {
     "data": {
      "image/png": "[encoded data removed]",
      "text/plain": [
       "<matplotlib.figure.Figure at 0x7f5d571b34a8>"
      ]
     },
     "metadata": {},
     "output_type": "display_data"
    }
   ],
   "source": [
    "dic_tes_height = pd.Series(test_height)\n",
    "dic_tes_height = ((dic_tes_height / len(dic_tes_height))*100)\n",
    "\n",
    "dic_tes_height.plot(kind='bar', figsize=[20,20], legend=True)\n",
    "plt.title(\"Class Distribution of Test Height\", fontsize=20)\n",
    "plt.xlabel('Image Width', fontsize= 15)\n",
    "plt.ylabel('Percentage', fontsize=15);\n",
    "plt.legend('Count');"
   ]
  },
  {
   "cell_type": "code",
   "execution_count": 36,
   "metadata": {
    "collapsed": false
   },
   "outputs": [
    {
     "data": {
      "image/png": "[encoded data removed]",
      "text/plain": [
       "<matplotlib.figure.Figure at 0x7f5d571fa8d0>"
      ]
     },
     "metadata": {},
     "output_type": "display_data"
    }
   ],
   "source": [
    "dic_tes_width = pd.Series(test_width)\n",
    "dic_tes_width = ((dic_tes_width / len(dic_tes_width))*100)\n",
    "\n",
    "dic_tes_width.plot(kind='bar', figsize=[20,20], legend=True)\n",
    "plt.title(\"Class Distribution of Test Width\", fontsize=20)\n",
    "plt.xlabel('Image Width', fontsize= 15)\n",
    "plt.ylabel('Percentage', fontsize=15);\n",
    "plt.legend('Count');"
   ]
  },
  {
   "cell_type": "markdown",
   "metadata": {},
   "source": [
    "### Preprocessing for a Convolutional NN"
   ]
  },
  {
   "cell_type": "markdown",
   "metadata": {},
   "source": [
    "#### Training Set"
   ]
  },
  {
   "cell_type": "code",
   "execution_count": 37,
   "metadata": {
    "collapsed": false
   },
   "outputs": [
    {
     "name": "stdout",
     "output_type": "stream",
     "text": [
      "STARTED: Sat Jul 22 17:49:09 2017\n",
      "FINISHED: Sat Jul 22 17:49:44 2017\n"
     ]
    }
   ],
   "source": [
    "from keras.preprocessing.image import array_to_img, img_to_array, load_img\n",
    "import numpy as np\n",
    "import time \n",
    "\n",
    "print(\"STARTED:\", time.ctime())\n",
    "\n",
    "cnn_resized_train = []\n",
    "for num in sorted_one_hot[:7000]['jpg_num']:\n",
    "    img = load_img('/home/chaserenick/train_photos/' + str(num) + '.jpg', target_size=(281,281))\n",
    "    i = img_to_array(img)\n",
    "    p = np.asarray(i)\n",
    "    p = p / np.amax(p) \n",
    "    cnn_resized_train.append(p)\n",
    "\n",
    "cnn_resized_train = np.asarray(cnn_resized_train)\n",
    "cnn_resized_train = np.reshape(cnn_resized_train,(7000,281,281,3))\n",
    "    \n",
    "print ('FINISHED:',time.ctime())"
   ]
  },
  {
   "cell_type": "markdown",
   "metadata": {},
   "source": [
    "#### Test Set"
   ]
  },
  {
   "cell_type": "code",
   "execution_count": 38,
   "metadata": {
    "collapsed": false
   },
   "outputs": [
    {
     "name": "stdout",
     "output_type": "stream",
     "text": [
      "STARTED: Sat Jul 22 17:49:44 2017\n",
      "FINISHED: Sat Jul 22 17:50:03 2017\n"
     ]
    }
   ],
   "source": [
    "from keras.preprocessing.image import array_to_img, img_to_array, load_img\n",
    "import numpy as np\n",
    "import time \n",
    "\n",
    "print(\"STARTED:\", time.ctime())\n",
    "\n",
    "cnn_resized_test = []\n",
    "for num in reduced_test_pho_biz[:2881]['jpg_num']:\n",
    "    img = load_img('/home/chaserenick/test_photos/' + str(num) + '.jpg', target_size=(281,281))\n",
    "    i = img_to_array(img)\n",
    "    p = np.asarray(i)\n",
    "    p = p / np.amax(p) \n",
    "    cnn_resized_test.append(p)\n",
    "\n",
    "cnn_resized_test = np.asarray(cnn_resized_test)\n",
    "cnn_resized_test = np.reshape(cnn_resized_test,(2881,281,281,3))\n",
    "    \n",
    "print ('FINISHED:',time.ctime())"
   ]
  },
  {
   "cell_type": "markdown",
   "metadata": {},
   "source": [
    "### Preprocessing for a Single Dense Layer NN"
   ]
  },
  {
   "cell_type": "markdown",
   "metadata": {},
   "source": [
    "#### Training Set"
   ]
  },
  {
   "cell_type": "code",
   "execution_count": 68,
   "metadata": {
    "collapsed": false
   },
   "outputs": [
    {
     "name": "stdout",
     "output_type": "stream",
     "text": [
      "STARTED: Sat Jul 22 18:19:30 2017\n",
      "FINISHED: Sat Jul 22 18:20:09 2017\n"
     ]
    }
   ],
   "source": [
    "from keras.preprocessing.image import array_to_img, img_to_array, load_img\n",
    "import numpy as np\n",
    "import time \n",
    "\n",
    "print(\"STARTED:\", time.ctime())\n",
    "\n",
    "nn_resized_train = []\n",
    "for num in sorted_one_hot[:7000]['jpg_num']:\n",
    "    img = load_img('/home/chaserenick/train_photos/' + str(num) + '.jpg', target_size=(281,281))\n",
    "    i = img_to_array(img)\n",
    "    p = np.asarray(i)\n",
    "    p = p.flatten()\n",
    "    p = p / np.amax(p) \n",
    "    nn_resized_train.append(p)\n",
    "\n",
    "nn_resized_train = np.asarray(nn_resized_train)\n",
    "nn_resized_train = np.reshape(nn_resized_train,(7000,236883))\n",
    "    \n",
    "print ('FINISHED:',time.ctime())"
   ]
  },
  {
   "cell_type": "markdown",
   "metadata": {},
   "source": [
    "#### Test Set"
   ]
  },
  {
   "cell_type": "code",
   "execution_count": 69,
   "metadata": {
    "collapsed": false
   },
   "outputs": [
    {
     "name": "stdout",
     "output_type": "stream",
     "text": [
      "STARTED: Sat Jul 22 18:20:09 2017\n",
      "FINISHED: Sat Jul 22 18:20:22 2017\n"
     ]
    }
   ],
   "source": [
    "from scipy.misc import imread\n",
    "import scipy.misc\n",
    "from keras.preprocessing.image import array_to_img, img_to_array\n",
    "\n",
    "print(\"STARTED:\", time.ctime())\n",
    "\n",
    "nn_resized_test = []\n",
    "for num in reduced_test_pho_biz[:2881]['jpg_num']:\n",
    "    img = load_img('/home/chaserenick/test_photos/' + str(num) + '.jpg', target_size=(281,281))\n",
    "    i = img_to_array(img)\n",
    "    pt = np.asarray(i)\n",
    "    pt = pt.flatten()\n",
    "    pt = pt / np.amax(pt) \n",
    "    nn_resized_test.append(pt)\n",
    "\n",
    "nn_resized_test = np.asarray(nn_resized_test)\n",
    "nn_resized_test = np.reshape(nn_resized_test,(2881,236883))\n",
    "\n",
    "print ('FINISHED:',time.ctime())"
   ]
  },
  {
   "cell_type": "markdown",
   "metadata": {},
   "source": [
    "##### Verify dimensions match"
   ]
  },
  {
   "cell_type": "code",
   "execution_count": 32,
   "metadata": {
    "collapsed": false
   },
   "outputs": [
    {
     "name": "stdout",
     "output_type": "stream",
     "text": [
      "(7000, 281, 281, 3)\n",
      "(2881, 281, 281, 3)\n"
     ]
    }
   ],
   "source": [
    "print (cnn_resized_train.shape)\n",
    "print (cnn_resized_test.shape)"
   ]
  },
  {
   "cell_type": "code",
   "execution_count": 70,
   "metadata": {
    "collapsed": false
   },
   "outputs": [
    {
     "name": "stdout",
     "output_type": "stream",
     "text": [
      "(7000, 236883)\n",
      "(2881, 236883)\n"
     ]
    }
   ],
   "source": [
    "print (nn_resized_train.shape)\n",
    "print (nn_resized_test.shape)"
   ]
  },
  {
   "cell_type": "markdown",
   "metadata": {},
   "source": [
    "### New Labels: [takes_reservations, outdoor_seating, good_for_dinner]"
   ]
  },
  {
   "cell_type": "code",
   "execution_count": 71,
   "metadata": {
    "collapsed": true
   },
   "outputs": [],
   "source": [
    "multi_train_labels = np.asarray(sorted_one_hot[['has_table_service','has_alcohol','good_for_kids','takes_reservations','outdoor_seating','good_for_dinner','good_for_lunch','ambience_is_classy', 'restaurant_is_expensive']])"
   ]
  },
  {
   "cell_type": "code",
   "execution_count": 72,
   "metadata": {
    "collapsed": false
   },
   "outputs": [
    {
     "name": "stdout",
     "output_type": "stream",
     "text": [
      "Train_Labels: \n",
      " [[1 1 1 1 0 0 1 0 0]\n",
      " [1 1 0 1 0 1 0 1 1]\n",
      " [1 1 1 1 0 0 1 0 0]\n",
      " [0 1 0 1 0 0 0 1 0]\n",
      " [1 1 0 1 0 1 0 0 1]]\n"
     ]
    }
   ],
   "source": [
    "print (\"Train_Labels:\", '\\n', multi_train_labels[:5])"
   ]
  },
  {
   "cell_type": "markdown",
   "metadata": {},
   "source": [
    "### Breaking up the Training Data into Training Set, Test Set, and Validation Set"
   ]
  },
  {
   "cell_type": "code",
   "execution_count": 73,
   "metadata": {
    "collapsed": true
   },
   "outputs": [],
   "source": [
    "from sklearn.model_selection import train_test_split"
   ]
  },
  {
   "cell_type": "markdown",
   "metadata": {},
   "source": [
    "#### Baseline Data Split Based on Classes"
   ]
  },
  {
   "cell_type": "code",
   "execution_count": 134,
   "metadata": {
    "collapsed": true
   },
   "outputs": [],
   "source": [
    "X_train_ts, X_test_ts, y_train_ts, y_test_ts = train_test_split(nn_resized_train, \n",
    "                                                                np.array(sorted_one_hot['has_table_service'][:7000]),\n",
    "                                                                test_size=0.3)"
   ]
  },
  {
   "cell_type": "code",
   "execution_count": 77,
   "metadata": {
    "collapsed": true
   },
   "outputs": [],
   "source": [
    "X_train_ha, X_test_ha, y_train_ha, y_test_ha = train_test_split(nn_resized_train, \n",
    "                                                                np.array(sorted_one_hot['has_alcohol'][:7000]),\n",
    "                                                                test_size=0.3)"
   ]
  },
  {
   "cell_type": "code",
   "execution_count": 39,
   "metadata": {
    "collapsed": true
   },
   "outputs": [],
   "source": [
    "X_train_gfk, X_test_gfk, y_train_gfk, y_test_gfk = train_test_split(nn_resized_train, \n",
    "                                                                np.array(sorted_one_hot['good_for_kids'][:7000]),\n",
    "                                                                test_size=0.3)"
   ]
  },
  {
   "cell_type": "code",
   "execution_count": 41,
   "metadata": {
    "collapsed": true
   },
   "outputs": [],
   "source": [
    "X_train_tr, X_test_tr, y_train_tr, y_test_tr = train_test_split(nn_resized_train, \n",
    "                                                                np.array(sorted_one_hot['takes_reservations'][:7000]),\n",
    "                                                                test_size=0.3)"
   ]
  },
  {
   "cell_type": "code",
   "execution_count": 42,
   "metadata": {
    "collapsed": true
   },
   "outputs": [],
   "source": [
    "X_train_ods, X_test_ods, y_train_ods, y_test_ods = train_test_split(nn_resized_train, \n",
    "                                                                np.array(sorted_one_hot['outdoor_seating'][:7000]),\n",
    "                                                                test_size=0.3)"
   ]
  },
  {
   "cell_type": "code",
   "execution_count": 43,
   "metadata": {
    "collapsed": true
   },
   "outputs": [],
   "source": [
    "X_train_gfd, X_test_gfd, y_train_gfd, y_test_gfd = train_test_split(nn_resized_train, \n",
    "                                                                np.array(sorted_one_hot['good_for_dinner'][:7000]),\n",
    "                                                                test_size=0.3)"
   ]
  },
  {
   "cell_type": "code",
   "execution_count": 44,
   "metadata": {
    "collapsed": true
   },
   "outputs": [],
   "source": [
    "X_train_gfl, X_test_gfl, y_train_gfl, y_test_gfl = train_test_split(nn_resized_train, \n",
    "                                                                np.array(sorted_one_hot['good_for_lunch'][:7000]),\n",
    "                                                                test_size=0.3)"
   ]
  },
  {
   "cell_type": "code",
   "execution_count": 45,
   "metadata": {
    "collapsed": true
   },
   "outputs": [],
   "source": [
    "X_train_ac, X_test_ac, y_train_ac, y_test_ac = train_test_split(nn_resized_train, \n",
    "                                                                np.array(sorted_one_hot['ambience_is_classy'][:7000]),\n",
    "                                                                test_size=0.3)"
   ]
  },
  {
   "cell_type": "code",
   "execution_count": 126,
   "metadata": {
    "collapsed": true
   },
   "outputs": [],
   "source": [
    "X_train_rs, X_test_rs, y_train_rs, y_test_rs = train_test_split(nn_resized_train, \n",
    "                                                                np.array(sorted_one_hot['restaurant_is_expensive'][:7000]),\n",
    "                                                                test_size=0.3)"
   ]
  },
  {
   "cell_type": "markdown",
   "metadata": {},
   "source": [
    "#### NN Data Split"
   ]
  },
  {
   "cell_type": "code",
   "execution_count": 74,
   "metadata": {
    "collapsed": true
   },
   "outputs": [],
   "source": [
    "X1_train, X1_test, y1_train, y1_test = train_test_split(nn_resized_train, multi_train_labels[:7000], test_size=0.3)"
   ]
  },
  {
   "cell_type": "markdown",
   "metadata": {},
   "source": [
    "#### CNN Data Split"
   ]
  },
  {
   "cell_type": "code",
   "execution_count": 36,
   "metadata": {
    "collapsed": true
   },
   "outputs": [],
   "source": [
    "X2_train, X2_test, y2_train, y2_test = train_test_split(cnn_resized_train, multi_train_labels[:7000], test_size=0.3)"
   ]
  },
  {
   "cell_type": "markdown",
   "metadata": {},
   "source": [
    "### Baseline Model: KNN"
   ]
  },
  {
   "cell_type": "markdown",
   "metadata": {},
   "source": [
    "##### Import Libraries"
   ]
  },
  {
   "cell_type": "code",
   "execution_count": 89,
   "metadata": {
    "collapsed": false
   },
   "outputs": [
    {
     "name": "stderr",
     "output_type": "stream",
     "text": [
      "/home/chaserenick/anaconda3/lib/python3.6/site-packages/sklearn/cross_validation.py:44: DeprecationWarning: This module was deprecated in version 0.18 in favor of the model_selection module into which all the refactored classes and functions are moved. Also note that the interface of the new CV iterators are different from that of this module. This module will be removed in 0.20.\n",
      "  \"This module will be removed in 0.20.\", DeprecationWarning)\n"
     ]
    }
   ],
   "source": [
    "from sklearn.neighbors import KNeighborsClassifier\n",
    "from sklearn.metrics import f1_score\n",
    "from sklearn.ensemble import BaggingClassifier\n",
    "from sklearn.cross_validation import cross_val_score"
   ]
  },
  {
   "cell_type": "markdown",
   "metadata": {},
   "source": [
    "#####  KNN & Bagged KNN Prediction Functions: F1 Score"
   ]
  },
  {
   "cell_type": "code",
   "execution_count": 67,
   "metadata": {
    "collapsed": true
   },
   "outputs": [],
   "source": [
    "def knn(x_train, y_train, x_test, y_test):\n",
    "    neigh = KNeighborsClassifier(n_neighbors=3).fit(x_train,y_train) \n",
    "    baseline_predicts = (neigh.predict(x_test))\n",
    "    score= f1_score(baseline_predicts,y_test)\n",
    "    return score\n",
    "\n",
    "def knn_bagged(x_train, y_train, x_test, y_test):\n",
    "    bagging_knn = BaggingClassifier(base_estimator=KNeighborsClassifier(),\n",
    "                           n_estimators=10).fit(x_train,y_train) \n",
    "    bagging_predicts = (bagging_knn.predict(x_test))\n",
    "    score= f1_score(bagging_predicts,y_test)\n",
    "    return score"
   ]
  },
  {
   "cell_type": "markdown",
   "metadata": {},
   "source": [
    "##### KNN Prediction for Has Table Service"
   ]
  },
  {
   "cell_type": "code",
   "execution_count": 135,
   "metadata": {
    "collapsed": false
   },
   "outputs": [
    {
     "data": {
      "text/plain": [
       "0.85131894484412463"
      ]
     },
     "execution_count": 135,
     "metadata": {},
     "output_type": "execute_result"
    }
   ],
   "source": [
    "ts_fit = KNeighborsClassifier(n_neighbors=3).fit(X_train_ts[:500],y_train_ts[:500]) \n",
    "ts_predict = ts_fit.predict(X_test_ts[:500])\n",
    "f1_score(ts_predict,y_test_ts[:500])"
   ]
  },
  {
   "cell_type": "markdown",
   "metadata": {},
   "source": [
    "##### KNN Prediction for Has Alcohol"
   ]
  },
  {
   "cell_type": "code",
   "execution_count": 83,
   "metadata": {
    "collapsed": false
   },
   "outputs": [
    {
     "data": {
      "text/plain": [
       "0.73421052631578942"
      ]
     },
     "execution_count": 83,
     "metadata": {},
     "output_type": "execute_result"
    }
   ],
   "source": [
    "ha_fit = KNeighborsClassifier(n_neighbors=3).fit(X_train_ha[:500],y_train_ha[:500]) \n",
    "ha_predict = ha_fit.predict(X_test_ts[:500])\n",
    "f1_score(ha_predict,y_test_ts[:500])"
   ]
  },
  {
   "cell_type": "markdown",
   "metadata": {},
   "source": [
    "##### KNN Prediction for Good For Kids"
   ]
  },
  {
   "cell_type": "code",
   "execution_count": 40,
   "metadata": {
    "collapsed": false
   },
   "outputs": [
    {
     "data": {
      "text/plain": [
       "0.54347826086956508"
      ]
     },
     "execution_count": 40,
     "metadata": {},
     "output_type": "execute_result"
    }
   ],
   "source": [
    "gfk_fit = KNeighborsClassifier(n_neighbors=3).fit(X_train_gfk[:500],y_train_gfk[:500]) \n",
    "gfk_predict = gfk_fit.predict(X_test_gfk[:500])\n",
    "f1_score(gfk_predict,y_test_gfk[:500])"
   ]
  },
  {
   "cell_type": "markdown",
   "metadata": {},
   "source": [
    "##### KNN Prediction for Takes Reservations"
   ]
  },
  {
   "cell_type": "code",
   "execution_count": 46,
   "metadata": {
    "collapsed": false
   },
   "outputs": [
    {
     "data": {
      "text/plain": [
       "0.7518987341772152"
      ]
     },
     "execution_count": 46,
     "metadata": {},
     "output_type": "execute_result"
    }
   ],
   "source": [
    "tr_fit = KNeighborsClassifier(n_neighbors=3).fit(X_train_tr[:500],y_train_tr[:500]) \n",
    "tr_predict = tr_fit.predict(X_test_tr[:500])\n",
    "f1_score(tr_predict,y_test_tr[:500])"
   ]
  },
  {
   "cell_type": "markdown",
   "metadata": {},
   "source": [
    "##### KNN Prediction for Outdoor Seating"
   ]
  },
  {
   "cell_type": "code",
   "execution_count": 47,
   "metadata": {
    "collapsed": false
   },
   "outputs": [
    {
     "data": {
      "text/plain": [
       "0.43842364532019706"
      ]
     },
     "execution_count": 47,
     "metadata": {},
     "output_type": "execute_result"
    }
   ],
   "source": [
    "ods_fit = KNeighborsClassifier(n_neighbors=3).fit(X_train_ods[:500],y_train_ods[:500]) \n",
    "ods_predict = ods_fit.predict(X_test_ods[:500])\n",
    "f1_score(ods_predict,y_test_ods[:500])"
   ]
  },
  {
   "cell_type": "markdown",
   "metadata": {},
   "source": [
    "##### KNN Prediction for Good for Dinner"
   ]
  },
  {
   "cell_type": "code",
   "execution_count": 48,
   "metadata": {
    "collapsed": false
   },
   "outputs": [
    {
     "data": {
      "text/plain": [
       "0.68635724331926862"
      ]
     },
     "execution_count": 48,
     "metadata": {},
     "output_type": "execute_result"
    }
   ],
   "source": [
    "gfd_fit = KNeighborsClassifier(n_neighbors=3).fit(X_train_gfd[:500],y_train_gfd[:500]) \n",
    "gfd_predict = gfd_fit.predict(X_test_gfd[:500])\n",
    "f1_score(gfd_predict,y_test_gfd[:500])"
   ]
  },
  {
   "cell_type": "markdown",
   "metadata": {},
   "source": [
    "##### KNN Prediction for Good For Lunch"
   ]
  },
  {
   "cell_type": "code",
   "execution_count": 49,
   "metadata": {
    "collapsed": false
   },
   "outputs": [
    {
     "data": {
      "text/plain": [
       "0.043478260869565223"
      ]
     },
     "execution_count": 49,
     "metadata": {},
     "output_type": "execute_result"
    }
   ],
   "source": [
    "gfl_fit = KNeighborsClassifier(n_neighbors=3).fit(X_train_gfl[:500],y_train_gfl[:500]) \n",
    "gfl_predict = gfl_fit.predict(X_test_gfl[:500])\n",
    "f1_score(gfl_predict,y_test_gfl[:500])"
   ]
  },
  {
   "cell_type": "markdown",
   "metadata": {},
   "source": [
    "##### KNN Prediction for Ambiance is Classy"
   ]
  },
  {
   "cell_type": "code",
   "execution_count": 50,
   "metadata": {
    "collapsed": false
   },
   "outputs": [
    {
     "data": {
      "text/plain": [
       "0.49387755102040815"
      ]
     },
     "execution_count": 50,
     "metadata": {},
     "output_type": "execute_result"
    }
   ],
   "source": [
    "ac_fit = KNeighborsClassifier(n_neighbors=3).fit(X_train_ac[:500],y_train_ac[:500]) \n",
    "ac_predict = ac_fit.predict(X_test_ac[:500])\n",
    "f1_score(ac_predict,y_test_ac[:500])"
   ]
  },
  {
   "cell_type": "markdown",
   "metadata": {},
   "source": [
    "##### KNN Prediction for Restaurants is Classy"
   ]
  },
  {
   "cell_type": "code",
   "execution_count": 129,
   "metadata": {
    "collapsed": false
   },
   "outputs": [
    {
     "data": {
      "text/plain": [
       "0.55535390199637025"
      ]
     },
     "execution_count": 129,
     "metadata": {},
     "output_type": "execute_result"
    }
   ],
   "source": [
    "rs_fit = KNeighborsClassifier(n_neighbors=3).fit(X_train_rs[:500],y_train_rs[:500]) \n",
    "rs_predict = rs_fit.predict(X_test_rs[:500])\n",
    "f1_score(rs_predict,y_test_rs[:500])"
   ]
  },
  {
   "cell_type": "markdown",
   "metadata": {},
   "source": [
    "### Weighting Classes To Resolve Class Imbalance Issue"
   ]
  },
  {
   "cell_type": "code",
   "execution_count": 81,
   "metadata": {
    "collapsed": false
   },
   "outputs": [
    {
     "data": {
      "text/html": [
       "<div>\n",
       "<style>\n",
       "    .dataframe thead tr:only-child th {\n",
       "        text-align: right;\n",
       "    }\n",
       "\n",
       "    .dataframe thead th {\n",
       "        text-align: left;\n",
       "    }\n",
       "\n",
       "    .dataframe tbody tr th {\n",
       "        vertical-align: top;\n",
       "    }\n",
       "</style>\n",
       "<table border=\"1\" class=\"dataframe\">\n",
       "  <thead>\n",
       "    <tr style=\"text-align: right;\">\n",
       "      <th></th>\n",
       "      <th>photo_id</th>\n",
       "      <th>business_id</th>\n",
       "      <th>jpg_num</th>\n",
       "      <th>has_table_service</th>\n",
       "      <th>has_alcohol</th>\n",
       "      <th>good_for_kids</th>\n",
       "      <th>takes_reservations</th>\n",
       "      <th>outdoor_seating</th>\n",
       "      <th>good_for_dinner</th>\n",
       "      <th>good_for_lunch</th>\n",
       "      <th>ambience_is_classy</th>\n",
       "      <th>restaurant_is_expensive</th>\n",
       "    </tr>\n",
       "  </thead>\n",
       "  <tbody>\n",
       "    <tr>\n",
       "      <th>89379</th>\n",
       "      <td>10</td>\n",
       "      <td>242</td>\n",
       "      <td>10</td>\n",
       "      <td>1</td>\n",
       "      <td>1</td>\n",
       "      <td>1</td>\n",
       "      <td>1</td>\n",
       "      <td>0</td>\n",
       "      <td>0</td>\n",
       "      <td>1</td>\n",
       "      <td>0</td>\n",
       "      <td>0</td>\n",
       "    </tr>\n",
       "    <tr>\n",
       "      <th>34242</th>\n",
       "      <td>102</td>\n",
       "      <td>2611</td>\n",
       "      <td>102</td>\n",
       "      <td>1</td>\n",
       "      <td>1</td>\n",
       "      <td>0</td>\n",
       "      <td>1</td>\n",
       "      <td>0</td>\n",
       "      <td>1</td>\n",
       "      <td>0</td>\n",
       "      <td>1</td>\n",
       "      <td>1</td>\n",
       "    </tr>\n",
       "    <tr>\n",
       "      <th>168973</th>\n",
       "      <td>103</td>\n",
       "      <td>428</td>\n",
       "      <td>103</td>\n",
       "      <td>1</td>\n",
       "      <td>1</td>\n",
       "      <td>1</td>\n",
       "      <td>1</td>\n",
       "      <td>0</td>\n",
       "      <td>0</td>\n",
       "      <td>1</td>\n",
       "      <td>0</td>\n",
       "      <td>0</td>\n",
       "    </tr>\n",
       "    <tr>\n",
       "      <th>220509</th>\n",
       "      <td>104</td>\n",
       "      <td>3580</td>\n",
       "      <td>104</td>\n",
       "      <td>0</td>\n",
       "      <td>1</td>\n",
       "      <td>0</td>\n",
       "      <td>1</td>\n",
       "      <td>0</td>\n",
       "      <td>0</td>\n",
       "      <td>0</td>\n",
       "      <td>1</td>\n",
       "      <td>0</td>\n",
       "    </tr>\n",
       "    <tr>\n",
       "      <th>196072</th>\n",
       "      <td>109</td>\n",
       "      <td>2014</td>\n",
       "      <td>109</td>\n",
       "      <td>1</td>\n",
       "      <td>1</td>\n",
       "      <td>0</td>\n",
       "      <td>1</td>\n",
       "      <td>0</td>\n",
       "      <td>1</td>\n",
       "      <td>0</td>\n",
       "      <td>0</td>\n",
       "      <td>1</td>\n",
       "    </tr>\n",
       "  </tbody>\n",
       "</table>\n",
       "</div>"
      ],
      "text/plain": [
       "        photo_id  business_id  jpg_num  has_table_service  has_alcohol  \\\n",
       "89379         10          242       10                  1            1   \n",
       "34242        102         2611      102                  1            1   \n",
       "168973       103          428      103                  1            1   \n",
       "220509       104         3580      104                  0            1   \n",
       "196072       109         2014      109                  1            1   \n",
       "\n",
       "        good_for_kids  takes_reservations  outdoor_seating  good_for_dinner  \\\n",
       "89379               1                   1                0                0   \n",
       "34242               0                   1                0                1   \n",
       "168973              1                   1                0                0   \n",
       "220509              0                   1                0                0   \n",
       "196072              0                   1                0                1   \n",
       "\n",
       "        good_for_lunch  ambience_is_classy  restaurant_is_expensive  \n",
       "89379                1                   0                        0  \n",
       "34242                0                   1                        1  \n",
       "168973               1                   0                        0  \n",
       "220509               0                   1                        0  \n",
       "196072               0                   0                        1  "
      ]
     },
     "execution_count": 81,
     "metadata": {},
     "output_type": "execute_result"
    }
   ],
   "source": [
    "sorted_one_hot.head()"
   ]
  },
  {
   "cell_type": "code",
   "execution_count": 82,
   "metadata": {
    "collapsed": false
   },
   "outputs": [
    {
     "data": {
      "text/plain": [
       "(7447, 12)"
      ]
     },
     "execution_count": 82,
     "metadata": {},
     "output_type": "execute_result"
    }
   ],
   "source": [
    "sorted_one_hot.shape"
   ]
  },
  {
   "cell_type": "code",
   "execution_count": 83,
   "metadata": {
    "collapsed": true
   },
   "outputs": [],
   "source": [
    "one = sum(sorted_one_hot['has_table_service'])\n",
    "two = sum(sorted_one_hot['has_alcohol']) \n",
    "three = sum(sorted_one_hot['good_for_kids'])\n",
    "four = sum(sorted_one_hot['takes_reservations']) \n",
    "five = sum(sorted_one_hot['outdoor_seating'])\n",
    "six = sum(sorted_one_hot['good_for_dinner'])\n",
    "seven = sum(sorted_one_hot['good_for_lunch']) \n",
    "eight = sum(sorted_one_hot['ambience_is_classy'])\n",
    "nine = sum(sorted_one_hot['restaurant_is_expensive']) "
   ]
  },
  {
   "cell_type": "code",
   "execution_count": 84,
   "metadata": {
    "collapsed": true
   },
   "outputs": [],
   "source": [
    "my_dic = {0:one, 1:two, 2: three, 3: four, 4: five, 5:six, 6:seven, 7:eight, 8:nine}\n",
    "# my_dic = {'has_tb':one, 'has_al':two, 'gfk': three, 'tk': four, 'ods': five, 'gfd':six, 'gfl':seven, 'ac':eight, 'rs_ex':nine}"
   ]
  },
  {
   "cell_type": "code",
   "execution_count": 85,
   "metadata": {
    "collapsed": true
   },
   "outputs": [],
   "source": [
    "## Credit given to https://github.com/fchollet/keras/issues/5116\n",
    "\n",
    "def get_weights(dictionary,smooth_factor):\n",
    "    if smooth_factor > 0:\n",
    "        p = max(my_dic.values()) * smooth_factor\n",
    "        for k in my_dic.keys():\n",
    "            my_dic[k] += p\n",
    "\n",
    "    majority = max(my_dic.values())\n",
    "\n",
    "    return {cls: float(majority / count) for cls, count in my_dic.items()}"
   ]
  },
  {
   "cell_type": "code",
   "execution_count": 86,
   "metadata": {
    "collapsed": false
   },
   "outputs": [
    {
     "data": {
      "text/plain": [
       "{0: 1.0,\n",
       " 1: 1.0231229354521918,\n",
       " 2: 1.2051740456409716,\n",
       " 3: 1.0907014371371466,\n",
       " 4: 1.226849373728723,\n",
       " 5: 1.1340920336467095,\n",
       " 6: 1.5436422413793103,\n",
       " 7: 1.3386286648755987,\n",
       " 8: 1.2889438758294904}"
      ]
     },
     "execution_count": 86,
     "metadata": {},
     "output_type": "execute_result"
    }
   ],
   "source": [
    "class_weights = get_weights(my_dic,1)\n",
    "class_weights"
   ]
  },
  {
   "cell_type": "markdown",
   "metadata": {},
   "source": [
    "#### I wrote the following function for precision, recall, and  f1score for multilabeled output data in Keras:"
   ]
  },
  {
   "cell_type": "code",
   "execution_count": 87,
   "metadata": {
    "collapsed": true
   },
   "outputs": [],
   "source": [
    "def scores(y_pred,y_true):\n",
    "    rows,columns = y_pred.shape\n",
    "    correct_dims = rows*columns\n",
    "\n",
    "    TP = []\n",
    "    TN = []\n",
    "    FP = []\n",
    "    FN = []\n",
    "\n",
    "    for i in range(rows):\n",
    "        for j in range(columns):\n",
    "            if y_pred[i][j] > .50 and y_true[i][j]==1:\n",
    "                TP.append(1)\n",
    "            elif y_pred[i][j] < .50 and y_true[i][j]==1:\n",
    "                FN.append(1)\n",
    "            elif y_pred[i][j] < .50 and y_true[i][j]==0:\n",
    "                TN.append(1)\n",
    "            elif y_pred[i][j] > .50 and y_true[i][j]==0:\n",
    "                FP.append(1)\n",
    "            else:\n",
    "                pass\n",
    "            \n",
    "    if sum(TP)+sum(FN)+sum(TN)+sum(FP) != correct_dims:\n",
    "        print ('Function is not totaling values correctly.  Fix before proceeding with further analysis.')\n",
    "    else:\n",
    "        precision = sum(TP) / (sum(TP)+sum(FP))\n",
    "        recall = sum(TP) / (sum(TP)+sum(FN))\n",
    "        fone_score = 2*((precision*recall) / (precision+recall))  \n",
    "    \n",
    "    return ('F1 Score:',fone_score,'Precision:',precision,'Recall:',recall)"
   ]
  },
  {
   "cell_type": "markdown",
   "metadata": {},
   "source": [
    "### Neural Net Classification"
   ]
  },
  {
   "cell_type": "code",
   "execution_count": 75,
   "metadata": {
    "collapsed": false
   },
   "outputs": [
    {
     "name": "stdout",
     "output_type": "stream",
     "text": [
      "_________________________________________________________________\n",
      "Layer (type)                 Output Shape              Param #   \n",
      "=================================================================\n",
      "dense_1 (Dense)              (None, 1)                 236884    \n",
      "=================================================================\n",
      "Total params: 236,884\n",
      "Trainable params: 236,884\n",
      "Non-trainable params: 0\n",
      "_________________________________________________________________\n"
     ]
    }
   ],
   "source": [
    "import keras\n",
    "from keras.models import Sequential\n",
    "from keras.layers import Dense\n",
    "from keras import regularizers \n",
    "\n",
    "model = Sequential()\n",
    "model.add(Dense(units=1, activation='sigmoid', input_shape=[236883], kernel_regularizer= regularizers.l2(.001)))\n",
    "model.summary()"
   ]
  },
  {
   "cell_type": "code",
   "execution_count": 76,
   "metadata": {
    "collapsed": true
   },
   "outputs": [],
   "source": [
    "model.compile(optimizer='adam', loss = 'binary_crossentropy', metrics=['accuracy'])"
   ]
  },
  {
   "cell_type": "code",
   "execution_count": 77,
   "metadata": {
    "collapsed": false
   },
   "outputs": [
    {
     "name": "stdout",
     "output_type": "stream",
     "text": [
      "Train on 6300 samples, validate on 700 samples\n",
      "Epoch 1/10\n",
      "6300/6300 [==============================] - 4s - loss: 3.6317 - acc: 0.7695 - val_loss: 3.8123 - val_acc: 0.7614\n",
      "Epoch 2/10\n",
      "6300/6300 [==============================] - 4s - loss: 3.6449 - acc: 0.7719 - val_loss: 3.8114 - val_acc: 0.7614\n",
      "Epoch 3/10\n",
      "6300/6300 [==============================] - 4s - loss: 3.6439 - acc: 0.7719 - val_loss: 3.8104 - val_acc: 0.7614\n",
      "Epoch 4/10\n",
      "6300/6300 [==============================] - 4s - loss: 3.6429 - acc: 0.7719 - val_loss: 3.8093 - val_acc: 0.7614\n",
      "Epoch 5/10\n",
      "6300/6300 [==============================] - 5s - loss: 3.6418 - acc: 0.7719 - val_loss: 3.8083 - val_acc: 0.7614\n",
      "Epoch 6/10\n",
      "6300/6300 [==============================] - 4s - loss: 3.6408 - acc: 0.7719 - val_loss: 3.8073 - val_acc: 0.7614\n",
      "Epoch 7/10\n",
      "6300/6300 [==============================] - 4s - loss: 3.6398 - acc: 0.7719 - val_loss: 3.8064 - val_acc: 0.7614\n",
      "Epoch 8/10\n",
      "6300/6300 [==============================] - 5s - loss: 3.6390 - acc: 0.7719 - val_loss: 3.8057 - val_acc: 0.7614\n",
      "Epoch 9/10\n",
      "6300/6300 [==============================] - 4s - loss: 3.6383 - acc: 0.7719 - val_loss: 3.8051 - val_acc: 0.7614\n",
      "Epoch 10/10\n",
      "6300/6300 [==============================] - 4s - loss: 3.6378 - acc: 0.7719 - val_loss: 3.8046 - val_acc: 0.7614\n"
     ]
    }
   ],
   "source": [
    "history = model.fit(nn_resized_train,np.array(sorted_one_hot['has_table_service'][:7000]), epochs=10, validation_split=.1)"
   ]
  },
  {
   "cell_type": "code",
   "execution_count": 78,
   "metadata": {
    "collapsed": false
   },
   "outputs": [
    {
     "data": {
      "image/png": "[encoded data removed]",
      "text/plain": [
       "<matplotlib.figure.Figure at 0x7f5d77c3bcf8>"
      ]
     },
     "metadata": {},
     "output_type": "display_data"
    }
   ],
   "source": [
    "pd.DataFrame(history.history).plot();"
   ]
  },
  {
   "cell_type": "code",
   "execution_count": 79,
   "metadata": {
    "collapsed": false
   },
   "outputs": [
    {
     "data": {
      "text/plain": [
       "array([[ 1.],\n",
       "       [ 1.],\n",
       "       [ 1.],\n",
       "       [ 1.],\n",
       "       [ 1.],\n",
       "       [ 1.],\n",
       "       [ 1.],\n",
       "       [ 1.],\n",
       "       [ 1.],\n",
       "       [ 1.]], dtype=float32)"
      ]
     },
     "execution_count": 79,
     "metadata": {},
     "output_type": "execute_result"
    }
   ],
   "source": [
    "model.predict(nn_resized_test)[0:10]"
   ]
  },
  {
   "cell_type": "code",
   "execution_count": 90,
   "metadata": {
    "collapsed": false
   },
   "outputs": [
    {
     "data": {
      "text/plain": [
       "0.87218633783519273"
      ]
     },
     "execution_count": 90,
     "metadata": {},
     "output_type": "execute_result"
    }
   ],
   "source": [
    "f1_score(model.predict(nn_resized_test),(np.array(sorted_one_hot['has_table_service'][:2881])))"
   ]
  },
  {
   "cell_type": "markdown",
   "metadata": {},
   "source": [
    "### Multi-Label Experiment:"
   ]
  },
  {
   "cell_type": "code",
   "execution_count": 183,
   "metadata": {
    "collapsed": false
   },
   "outputs": [
    {
     "name": "stdout",
     "output_type": "stream",
     "text": [
      "_________________________________________________________________\n",
      "Layer (type)                 Output Shape              Param #   \n",
      "=================================================================\n",
      "dense_19 (Dense)             (None, 9)                 2131956   \n",
      "=================================================================\n",
      "Total params: 2,131,956\n",
      "Trainable params: 2,131,956\n",
      "Non-trainable params: 0\n",
      "_________________________________________________________________\n"
     ]
    }
   ],
   "source": [
    "import keras\n",
    "from keras.models import Sequential\n",
    "from keras.layers import Dense\n",
    "from keras import regularizers \n",
    "\n",
    "model = Sequential()\n",
    "model.add(Dense(units=9, activation='sigmoid', input_shape=[236883], kernel_regularizer= regularizers.l2(.01)))\n",
    "model.summary()"
   ]
  },
  {
   "cell_type": "code",
   "execution_count": 184,
   "metadata": {
    "collapsed": true
   },
   "outputs": [],
   "source": [
    "model.compile(optimizer='adam', loss = 'binary_crossentropy', metrics=['accuracy'])"
   ]
  },
  {
   "cell_type": "code",
   "execution_count": 185,
   "metadata": {
    "collapsed": false
   },
   "outputs": [
    {
     "name": "stdout",
     "output_type": "stream",
     "text": [
      "Train on 4851 samples, validate on 49 samples\n",
      "Epoch 1/10\n",
      "4851/4851 [==============================] - 8s - loss: 6.6437 - acc: 0.6104 - val_loss: 6.6589 - val_acc: 0.6009\n",
      "Epoch 2/10\n",
      "4851/4851 [==============================] - 8s - loss: 7.4745 - acc: 0.5713 - val_loss: 7.7802 - val_acc: 0.5397\n",
      "Epoch 3/10\n",
      "4851/4851 [==============================] - 8s - loss: 7.8897 - acc: 0.5367 - val_loss: 7.8665 - val_acc: 0.5442\n",
      "Epoch 4/10\n",
      "4851/4851 [==============================] - 8s - loss: 7.5364 - acc: 0.5666 - val_loss: 7.4135 - val_acc: 0.5692\n",
      "Epoch 5/10\n",
      "4851/4851 [==============================] - 8s - loss: 7.8192 - acc: 0.5604 - val_loss: 6.5144 - val_acc: 0.6395\n",
      "Epoch 6/10\n",
      "4851/4851 [==============================] - 8s - loss: 7.6617 - acc: 0.5637 - val_loss: 8.2581 - val_acc: 0.5125\n",
      "Epoch 7/10\n",
      "4851/4851 [==============================] - 8s - loss: 9.0721 - acc: 0.4754 - val_loss: 9.2702 - val_acc: 0.4467\n",
      "Epoch 8/10\n",
      "4851/4851 [==============================] - 8s - loss: 7.2318 - acc: 0.5940 - val_loss: 6.4794 - val_acc: 0.6576\n",
      "Epoch 9/10\n",
      "4851/4851 [==============================] - 8s - loss: 7.5588 - acc: 0.5781 - val_loss: 8.8386 - val_acc: 0.4853\n",
      "Epoch 10/10\n",
      "4851/4851 [==============================] - 8s - loss: 8.0428 - acc: 0.5432 - val_loss: 7.1310 - val_acc: 0.5850\n"
     ]
    }
   ],
   "source": [
    "history = model.fit(X1_train,y1_train, validation_split=.01, epochs=10, class_weight=class_weights)"
   ]
  },
  {
   "cell_type": "code",
   "execution_count": 186,
   "metadata": {
    "collapsed": false
   },
   "outputs": [
    {
     "data": {
      "image/png": "[encoded data removed]",
      "text/plain": [
       "<matplotlib.figure.Figure at 0x7fbc68639470>"
      ]
     },
     "metadata": {},
     "output_type": "display_data"
    }
   ],
   "source": [
    "pd.DataFrame(history.history).plot();"
   ]
  },
  {
   "cell_type": "code",
   "execution_count": 188,
   "metadata": {
    "collapsed": true
   },
   "outputs": [],
   "source": [
    "p = model.predict(X1_test)"
   ]
  },
  {
   "cell_type": "code",
   "execution_count": 189,
   "metadata": {
    "collapsed": false
   },
   "outputs": [
    {
     "data": {
      "text/plain": [
       "('F1 Score:',\n",
       " 0.5099199014171287,\n",
       " 'Precision:',\n",
       " 0.6568253968253969,\n",
       " 'Recall:',\n",
       " 0.41671701913393755)"
      ]
     },
     "execution_count": 189,
     "metadata": {},
     "output_type": "execute_result"
    }
   ],
   "source": [
    "scores(p,y1_test)"
   ]
  },
  {
   "cell_type": "code",
   "execution_count": 80,
   "metadata": {
    "collapsed": false
   },
   "outputs": [
    {
     "name": "stdout",
     "output_type": "stream",
     "text": [
      "2048/2100 [============================>.] - ETA: 0s"
     ]
    },
    {
     "data": {
      "text/plain": [
       "[8.0911888367789135, 0.51751323858896892]"
      ]
     },
     "execution_count": 80,
     "metadata": {},
     "output_type": "execute_result"
    }
   ],
   "source": [
    "model.evaluate(X1_test,y1_test)"
   ]
  },
  {
   "cell_type": "markdown",
   "metadata": {},
   "source": [
    "### CNN: 1 Layer :"
   ]
  },
  {
   "cell_type": "code",
   "execution_count": 81,
   "metadata": {
    "collapsed": false
   },
   "outputs": [
    {
     "name": "stdout",
     "output_type": "stream",
     "text": [
      "_________________________________________________________________\n",
      "Layer (type)                 Output Shape              Param #   \n",
      "=================================================================\n",
      "convolution2d (Conv2D)       (None, 281, 281, 32)      896       \n",
      "_________________________________________________________________\n",
      "max_pooling2d_1 (MaxPooling2 (None, 141, 141, 32)      0         \n",
      "_________________________________________________________________\n",
      "flatten_1 (Flatten)          (None, 636192)            0         \n",
      "_________________________________________________________________\n",
      "dense_5 (Dense)              (None, 9)                 5725737   \n",
      "=================================================================\n",
      "Total params: 5,726,633\n",
      "Trainable params: 5,726,633\n",
      "Non-trainable params: 0\n",
      "_________________________________________________________________\n"
     ]
    }
   ],
   "source": [
    "from keras.layers import Input, Convolution2D, MaxPooling2D, Dense, Dropout, Flatten\n",
    "from keras.models import Model\n",
    "from keras.models import Sequential\n",
    "from keras import regularizers \n",
    "\n",
    "model = Sequential()\n",
    "model.add(Convolution2D(input_shape=(281,281,3), filters=32, kernel_size=3, activation='relu', padding='same', data_format=\"channels_last\", \n",
    "                      name='convolution2d'))\n",
    "model.add(MaxPooling2D(pool_size=(2,2),strides=2, padding='same'))\n",
    "model.add(Flatten())\n",
    "model.add(Dense(units=9, activation='sigmoid', input_shape=[636192], kernel_regularizer=regularizers.l2(.01)))\n",
    "model.summary()"
   ]
  },
  {
   "cell_type": "code",
   "execution_count": 82,
   "metadata": {
    "collapsed": true
   },
   "outputs": [],
   "source": [
    "model.compile(optimizer='adam', loss = 'binary_crossentropy', metrics=['accuracy'])"
   ]
  },
  {
   "cell_type": "code",
   "execution_count": 83,
   "metadata": {
    "collapsed": false
   },
   "outputs": [
    {
     "name": "stdout",
     "output_type": "stream",
     "text": [
      "Train on 4410 samples, validate on 490 samples\n",
      "Epoch 1/10\n",
      "4410/4410 [==============================] - 159s - loss: 3.7434 - acc: 0.6007 - val_loss: 0.6914 - val_acc: 0.6327\n",
      "Epoch 2/10\n",
      "4410/4410 [==============================] - 156s - loss: 0.6730 - acc: 0.6404 - val_loss: 0.6682 - val_acc: 0.6456\n",
      "Epoch 3/10\n",
      "4410/4410 [==============================] - 155s - loss: 0.6628 - acc: 0.6482 - val_loss: 0.6606 - val_acc: 0.6540\n",
      "Epoch 4/10\n",
      "4410/4410 [==============================] - 155s - loss: 0.6646 - acc: 0.6515 - val_loss: 0.6575 - val_acc: 0.6544\n",
      "Epoch 5/10\n",
      "4410/4410 [==============================] - 157s - loss: 0.6614 - acc: 0.6541 - val_loss: 0.6685 - val_acc: 0.6438\n",
      "Epoch 6/10\n",
      "4410/4410 [==============================] - 155s - loss: 0.6649 - acc: 0.6537 - val_loss: 0.6628 - val_acc: 0.6438\n",
      "Epoch 7/10\n",
      "4410/4410 [==============================] - 180s - loss: 0.6659 - acc: 0.6538 - val_loss: 0.6794 - val_acc: 0.6406\n",
      "Epoch 8/10\n",
      "4410/4410 [==============================] - 251s - loss: 0.6698 - acc: 0.6541 - val_loss: 0.6722 - val_acc: 0.6451\n",
      "Epoch 9/10\n",
      "4410/4410 [==============================] - 256s - loss: 0.6620 - acc: 0.6589 - val_loss: 0.6769 - val_acc: 0.6551\n",
      "Epoch 10/10\n",
      "4410/4410 [==============================] - 257s - loss: 0.6704 - acc: 0.6584 - val_loss: 0.6709 - val_acc: 0.6533\n"
     ]
    }
   ],
   "source": [
    "history = model.fit(X2_train,y2_train, validation_split=.1, class_weight=class_weights)"
   ]
  },
  {
   "cell_type": "code",
   "execution_count": 84,
   "metadata": {
    "collapsed": false
   },
   "outputs": [
    {
     "data": {
      "image/png": "[encoded data removed]",
      "text/plain": [
       "<matplotlib.figure.Figure at 0x7fc4340d6d68>"
      ]
     },
     "metadata": {},
     "output_type": "display_data"
    }
   ],
   "source": [
    "pd.DataFrame(history.history).plot();"
   ]
  },
  {
   "cell_type": "code",
   "execution_count": 89,
   "metadata": {
    "collapsed": true
   },
   "outputs": [],
   "source": [
    "p = model.predict(X2_test)"
   ]
  },
  {
   "cell_type": "code",
   "execution_count": 95,
   "metadata": {
    "collapsed": false
   },
   "outputs": [
    {
     "data": {
      "text/plain": [
       "('F1 Score:',\n",
       " 0.6573527889889268,\n",
       " 'Precision:',\n",
       " 0.6835252340471323,\n",
       " 'Recall:',\n",
       " 0.6331107345758995)"
      ]
     },
     "execution_count": 95,
     "metadata": {},
     "output_type": "execute_result"
    }
   ],
   "source": [
    "scores(p,y2_test)"
   ]
  },
  {
   "cell_type": "code",
   "execution_count": 86,
   "metadata": {
    "collapsed": false
   },
   "outputs": [
    {
     "name": "stdout",
     "output_type": "stream",
     "text": [
      "2100/2100 [==============================] - 29s    \n"
     ]
    },
    {
     "data": {
      "text/plain": [
       "[0.6595032240095593, 0.64962963376726424]"
      ]
     },
     "execution_count": 86,
     "metadata": {},
     "output_type": "execute_result"
    }
   ],
   "source": [
    "model.evaluate(X2_test,y2_test)"
   ]
  },
  {
   "cell_type": "markdown",
   "metadata": {},
   "source": [
    "### CNN: 2 Layers "
   ]
  },
  {
   "cell_type": "code",
   "execution_count": 99,
   "metadata": {
    "collapsed": false
   },
   "outputs": [
    {
     "name": "stdout",
     "output_type": "stream",
     "text": [
      "_________________________________________________________________\n",
      "Layer (type)                 Output Shape              Param #   \n",
      "=================================================================\n",
      "first_convolution1 (Conv2D)  (None, 281, 281, 32)      896       \n",
      "_________________________________________________________________\n",
      "max_pooling2d_4 (MaxPooling2 (None, 281, 281, 32)      0         \n",
      "_________________________________________________________________\n",
      "second_convolution (Conv2D)  (None, 281, 281, 32)      9248      \n",
      "_________________________________________________________________\n",
      "max_pooling2d_5 (MaxPooling2 (None, 141, 141, 32)      0         \n",
      "_________________________________________________________________\n",
      "flatten_3 (Flatten)          (None, 636192)            0         \n",
      "_________________________________________________________________\n",
      "dense_7 (Dense)              (None, 9)                 5725737   \n",
      "=================================================================\n",
      "Total params: 5,735,881\n",
      "Trainable params: 5,735,881\n",
      "Non-trainable params: 0\n",
      "_________________________________________________________________\n"
     ]
    }
   ],
   "source": [
    "from keras.layers import Input, Convolution2D, MaxPooling2D, Dense, Dropout, Flatten\n",
    "from keras.models import Model\n",
    "from keras.models import Sequential\n",
    "from keras import regularizers \n",
    "\n",
    "model = Sequential()\n",
    "model.add(Convolution2D(input_shape=(281,281,3), filters=32, kernel_size=3, activation='relu', padding='same', data_format=\"channels_last\", \n",
    "                      name='first_convolution1'))\n",
    "model.add(MaxPooling2D(pool_size=(2,2),strides=1, padding='same'))\n",
    "model.add(Convolution2D(input_shape=(281,281,3), filters=32, kernel_size=3, activation='relu', padding='same', data_format=\"channels_last\", \n",
    "                      name='second_convolution'))\n",
    "model.add(MaxPooling2D(pool_size=(2,2),strides=2, padding='same'))\n",
    "model.add(Flatten())\n",
    "model.add(Dense(units=9, activation='sigmoid', input_shape=[636192], kernel_regularizer=regularizers.l2(.01)))\n",
    "model.summary()"
   ]
  },
  {
   "cell_type": "code",
   "execution_count": 100,
   "metadata": {
    "collapsed": true
   },
   "outputs": [],
   "source": [
    "model.compile(optimizer='adam', loss = 'binary_crossentropy', metrics=['accuracy'])"
   ]
  },
  {
   "cell_type": "code",
   "execution_count": 101,
   "metadata": {
    "collapsed": false
   },
   "outputs": [
    {
     "name": "stdout",
     "output_type": "stream",
     "text": [
      "Train on 4410 samples, validate on 490 samples\n",
      "Epoch 1/10\n",
      "4410/4410 [==============================] - 884s - loss: 0.9189 - acc: 0.6364 - val_loss: 0.6702 - val_acc: 0.6571\n",
      "Epoch 2/10\n",
      "4410/4410 [==============================] - 901s - loss: 0.6661 - acc: 0.6463 - val_loss: 0.6716 - val_acc: 0.6433\n",
      "Epoch 3/10\n",
      "4410/4410 [==============================] - 948s - loss: 0.6617 - acc: 0.6487 - val_loss: 0.6621 - val_acc: 0.6363\n",
      "Epoch 4/10\n",
      "4410/4410 [==============================] - 977s - loss: 0.6615 - acc: 0.6521 - val_loss: 0.6640 - val_acc: 0.6490\n",
      "Epoch 5/10\n",
      "4410/4410 [==============================] - 976s - loss: 0.6679 - acc: 0.6522 - val_loss: 0.6560 - val_acc: 0.6497\n",
      "Epoch 6/10\n",
      "4410/4410 [==============================] - 924s - loss: 0.6627 - acc: 0.6514 - val_loss: 0.6601 - val_acc: 0.6542\n",
      "Epoch 7/10\n",
      "4410/4410 [==============================] - 613s - loss: 0.6659 - acc: 0.6555 - val_loss: 0.6852 - val_acc: 0.6517\n",
      "Epoch 8/10\n",
      "4410/4410 [==============================] - 606s - loss: 0.6585 - acc: 0.6497 - val_loss: 0.6580 - val_acc: 0.6546\n",
      "Epoch 9/10\n",
      "4410/4410 [==============================] - 602s - loss: 0.6674 - acc: 0.6566 - val_loss: 0.6649 - val_acc: 0.6592\n",
      "Epoch 10/10\n",
      "4410/4410 [==============================] - 600s - loss: 0.6672 - acc: 0.6559 - val_loss: 0.6838 - val_acc: 0.6587\n"
     ]
    }
   ],
   "source": [
    "history = model.fit(X2_train,y2_train, validation_split=.1, epochs=10, class_weight=class_weights)"
   ]
  },
  {
   "cell_type": "code",
   "execution_count": 102,
   "metadata": {
    "collapsed": false
   },
   "outputs": [
    {
     "data": {
      "image/png": "[encoded data removed]",
      "text/plain": [
       "<matplotlib.figure.Figure at 0x7fc031b057b8>"
      ]
     },
     "metadata": {},
     "output_type": "display_data"
    }
   ],
   "source": [
    "pd.DataFrame(history.history).plot();"
   ]
  },
  {
   "cell_type": "code",
   "execution_count": 103,
   "metadata": {
    "collapsed": true
   },
   "outputs": [],
   "source": [
    "p = model.predict(X2_test)"
   ]
  },
  {
   "cell_type": "code",
   "execution_count": 109,
   "metadata": {
    "collapsed": false
   },
   "outputs": [
    {
     "data": {
      "text/plain": [
       "('F1 Score:',\n",
       " 0.6845221044590852,\n",
       " 'Precision:',\n",
       " 0.656922935947952,\n",
       " 'Recall:',\n",
       " 0.7145420113625037)"
      ]
     },
     "execution_count": 109,
     "metadata": {},
     "output_type": "execute_result"
    }
   ],
   "source": [
    "scores(p,y2_test)"
   ]
  },
  {
   "cell_type": "code",
   "execution_count": 105,
   "metadata": {
    "collapsed": false
   },
   "outputs": [
    {
     "name": "stdout",
     "output_type": "stream",
     "text": [
      "2100/2100 [==============================] - 75s    \n"
     ]
    },
    {
     "data": {
      "text/plain": [
       "[0.67540292217617948, 0.65037037259056452]"
      ]
     },
     "execution_count": 105,
     "metadata": {},
     "output_type": "execute_result"
    }
   ],
   "source": [
    "model.evaluate(X2_test,y2_test)"
   ]
  },
  {
   "cell_type": "markdown",
   "metadata": {},
   "source": [
    "## Mock VGG Net: BEST MODEL "
   ]
  },
  {
   "cell_type": "code",
   "execution_count": 110,
   "metadata": {
    "collapsed": false
   },
   "outputs": [
    {
     "name": "stdout",
     "output_type": "stream",
     "text": [
      "_________________________________________________________________\n",
      "Layer (type)                 Output Shape              Param #   \n",
      "=================================================================\n",
      "first_convolution1 (Conv2D)  (None, 281, 281, 32)      896       \n",
      "_________________________________________________________________\n",
      "max_pooling2d_6 (MaxPooling2 (None, 141, 141, 32)      0         \n",
      "_________________________________________________________________\n",
      "second_convolution (Conv2D)  (None, 141, 141, 32)      9248      \n",
      "_________________________________________________________________\n",
      "max_pooling2d_7 (MaxPooling2 (None, 71, 71, 32)        0         \n",
      "_________________________________________________________________\n",
      "third_convolution (Conv2D)   (None, 71, 71, 32)        9248      \n",
      "_________________________________________________________________\n",
      "max_pooling2d_8 (MaxPooling2 (None, 36, 36, 32)        0         \n",
      "_________________________________________________________________\n",
      "fourth_convolution (Conv2D)  (None, 36, 36, 32)        9248      \n",
      "_________________________________________________________________\n",
      "max_pooling2d_9 (MaxPooling2 (None, 18, 18, 32)        0         \n",
      "_________________________________________________________________\n",
      "fifth_convolution (Conv2D)   (None, 18, 18, 32)        9248      \n",
      "_________________________________________________________________\n",
      "max_pooling2d_10 (MaxPooling (None, 9, 9, 32)          0         \n",
      "_________________________________________________________________\n",
      "sixth_convolution (Conv2D)   (None, 9, 9, 32)          9248      \n",
      "_________________________________________________________________\n",
      "max_pooling2d_11 (MaxPooling (None, 5, 5, 32)          0         \n",
      "_________________________________________________________________\n",
      "flatten_4 (Flatten)          (None, 800)               0         \n",
      "_________________________________________________________________\n",
      "dense_8 (Dense)              (None, 9)                 7209      \n",
      "=================================================================\n",
      "Total params: 54,345\n",
      "Trainable params: 54,345\n",
      "Non-trainable params: 0\n",
      "_________________________________________________________________\n"
     ]
    }
   ],
   "source": [
    "from keras.layers import Input, Convolution2D, MaxPooling2D, Dense, Dropout, Flatten\n",
    "from keras.models import Model\n",
    "from keras.models import Sequential\n",
    "from keras import regularizers \n",
    "\n",
    "model = Sequential()\n",
    "model.add(Convolution2D(input_shape=(281,281,3), filters=32, kernel_size=3, activation='relu', padding='same', data_format=\"channels_last\", \n",
    "                      name='first_convolution1'))\n",
    "model.add(MaxPooling2D(pool_size=(2,2),strides=2, padding='same'))\n",
    "\n",
    "model.add(Convolution2D(input_shape=(141,141,3), filters=32, kernel_size=3, activation='relu', padding='same', data_format=\"channels_last\", \n",
    "                      name='second_convolution'))\n",
    "model.add(MaxPooling2D(pool_size=(2,2),strides=2, padding='same'))\n",
    "\n",
    "model.add(Convolution2D(input_shape=(71,71,3), filters=32, kernel_size=3, activation='relu', padding='same', data_format=\"channels_last\", \n",
    "                      name='third_convolution'))\n",
    "model.add(MaxPooling2D(pool_size=(2,2),strides=2, padding='same'))\n",
    "\n",
    "model.add(Convolution2D(input_shape=(36,36,3), filters=32, kernel_size=3, activation='relu', padding='same', data_format=\"channels_last\", \n",
    "                      name='fourth_convolution'))\n",
    "model.add(MaxPooling2D(pool_size=(2,2),strides=2, padding='same'))\n",
    "\n",
    "model.add(Convolution2D(input_shape=(18,18,3), filters=32, kernel_size=3, activation='relu', padding='same', data_format=\"channels_last\", \n",
    "                      name='fifth_convolution'))\n",
    "model.add(MaxPooling2D(pool_size=(2,2),strides=2, padding='same'))\n",
    "\n",
    "model.add(Convolution2D(input_shape=(5,5,3), filters=32, kernel_size=3, activation='relu', padding='same', data_format=\"channels_last\", \n",
    "                      name='sixth_convolution'))\n",
    "model.add(MaxPooling2D(pool_size=(2,2),strides=2, padding='same'))\n",
    "\n",
    "model.add(Flatten())\n",
    "model.add(Dense(units=9, activation='sigmoid', input_shape=[800], kernel_regularizer=regularizers.l2(.01)))\n",
    "model.summary()"
   ]
  },
  {
   "cell_type": "code",
   "execution_count": 111,
   "metadata": {
    "collapsed": true
   },
   "outputs": [],
   "source": [
    "model.compile(optimizer='adam', loss = 'binary_crossentropy', metrics=['accuracy'])"
   ]
  },
  {
   "cell_type": "code",
   "execution_count": 112,
   "metadata": {
    "collapsed": false
   },
   "outputs": [
    {
     "name": "stdout",
     "output_type": "stream",
     "text": [
      "Train on 4410 samples, validate on 490 samples\n",
      "Epoch 1/10\n",
      "4410/4410 [==============================] - 289s - loss: 0.7146 - acc: 0.6325 - val_loss: 0.6555 - val_acc: 0.6408\n",
      "Epoch 2/10\n",
      "4410/4410 [==============================] - 286s - loss: 0.6491 - acc: 0.6464 - val_loss: 0.6363 - val_acc: 0.6494\n",
      "Epoch 3/10\n",
      "4410/4410 [==============================] - 288s - loss: 0.6349 - acc: 0.6544 - val_loss: 0.6294 - val_acc: 0.6556\n",
      "Epoch 4/10\n",
      "4410/4410 [==============================] - 285s - loss: 0.6281 - acc: 0.6606 - val_loss: 0.6351 - val_acc: 0.6560\n",
      "Epoch 5/10\n",
      "4410/4410 [==============================] - 285s - loss: 0.6235 - acc: 0.6654 - val_loss: 0.6184 - val_acc: 0.6696\n",
      "Epoch 6/10\n",
      "4410/4410 [==============================] - 284s - loss: 0.6151 - acc: 0.6732 - val_loss: 0.6153 - val_acc: 0.6773\n",
      "Epoch 7/10\n",
      "4410/4410 [==============================] - 286s - loss: 0.6122 - acc: 0.6762 - val_loss: 0.6102 - val_acc: 0.6701\n",
      "Epoch 8/10\n",
      "4410/4410 [==============================] - 285s - loss: 0.6015 - acc: 0.6821 - val_loss: 0.6367 - val_acc: 0.6492\n",
      "Epoch 9/10\n",
      "4410/4410 [==============================] - 283s - loss: 0.6001 - acc: 0.6868 - val_loss: 0.6156 - val_acc: 0.6751\n",
      "Epoch 10/10\n",
      "4410/4410 [==============================] - 281s - loss: 0.5927 - acc: 0.6936 - val_loss: 0.6121 - val_acc: 0.6794\n"
     ]
    }
   ],
   "source": [
    "history = model.fit(X2_train,y2_train, validation_split=.1, class_weight=class_weights)"
   ]
  },
  {
   "cell_type": "code",
   "execution_count": 113,
   "metadata": {
    "collapsed": false
   },
   "outputs": [
    {
     "data": {
      "image/png": "[encoded data removed]",
      "text/plain": [
       "<matplotlib.figure.Figure at 0x7fc02fadda90>"
      ]
     },
     "metadata": {},
     "output_type": "display_data"
    }
   ],
   "source": [
    "pd.DataFrame(history.history).plot();"
   ]
  },
  {
   "cell_type": "code",
   "execution_count": 114,
   "metadata": {
    "collapsed": true
   },
   "outputs": [],
   "source": [
    "p = model.predict(X2_test)"
   ]
  },
  {
   "cell_type": "code",
   "execution_count": 115,
   "metadata": {
    "collapsed": false
   },
   "outputs": [
    {
     "data": {
      "text/plain": [
       "('F1 Score:',\n",
       " 0.691787342786992,\n",
       " 'Precision:',\n",
       " 0.6955864570737605,\n",
       " 'Recall:',\n",
       " 0.6880295026412838)"
      ]
     },
     "execution_count": 115,
     "metadata": {},
     "output_type": "execute_result"
    }
   ],
   "source": [
    "scores(p,y2_test)"
   ]
  },
  {
   "cell_type": "code",
   "execution_count": 116,
   "metadata": {
    "collapsed": false
   },
   "outputs": [
    {
     "name": "stdout",
     "output_type": "stream",
     "text": [
      "2100/2100 [==============================] - 35s    \n"
     ]
    },
    {
     "data": {
      "text/plain": [
       "[0.60740917864299959, 0.67455026717413036]"
      ]
     },
     "execution_count": 116,
     "metadata": {},
     "output_type": "execute_result"
    }
   ],
   "source": [
    "model.evaluate(X2_test,y2_test)"
   ]
  },
  {
   "cell_type": "markdown",
   "metadata": {},
   "source": [
    "#### SAME MODEL as above but with more epochs.  \n",
    "#### Result = although accuracy went up and loss went down it did not improve the f1score of our model."
   ]
  },
  {
   "cell_type": "code",
   "execution_count": 117,
   "metadata": {
    "collapsed": false
   },
   "outputs": [
    {
     "name": "stdout",
     "output_type": "stream",
     "text": [
      "_________________________________________________________________\n",
      "Layer (type)                 Output Shape              Param #   \n",
      "=================================================================\n",
      "first_convolution1 (Conv2D)  (None, 281, 281, 32)      896       \n",
      "_________________________________________________________________\n",
      "max_pooling2d_12 (MaxPooling (None, 141, 141, 32)      0         \n",
      "_________________________________________________________________\n",
      "second_convolution (Conv2D)  (None, 141, 141, 32)      9248      \n",
      "_________________________________________________________________\n",
      "max_pooling2d_13 (MaxPooling (None, 71, 71, 32)        0         \n",
      "_________________________________________________________________\n",
      "third_convolution (Conv2D)   (None, 71, 71, 32)        9248      \n",
      "_________________________________________________________________\n",
      "max_pooling2d_14 (MaxPooling (None, 36, 36, 32)        0         \n",
      "_________________________________________________________________\n",
      "fourth_convolution (Conv2D)  (None, 36, 36, 32)        9248      \n",
      "_________________________________________________________________\n",
      "max_pooling2d_15 (MaxPooling (None, 18, 18, 32)        0         \n",
      "_________________________________________________________________\n",
      "fifth_convolution (Conv2D)   (None, 18, 18, 32)        9248      \n",
      "_________________________________________________________________\n",
      "max_pooling2d_16 (MaxPooling (None, 9, 9, 32)          0         \n",
      "_________________________________________________________________\n",
      "sixth_convolution (Conv2D)   (None, 9, 9, 32)          9248      \n",
      "_________________________________________________________________\n",
      "max_pooling2d_17 (MaxPooling (None, 5, 5, 32)          0         \n",
      "_________________________________________________________________\n",
      "flatten_5 (Flatten)          (None, 800)               0         \n",
      "_________________________________________________________________\n",
      "dense_9 (Dense)              (None, 9)                 7209      \n",
      "=================================================================\n",
      "Total params: 54,345\n",
      "Trainable params: 54,345\n",
      "Non-trainable params: 0\n",
      "_________________________________________________________________\n"
     ]
    }
   ],
   "source": [
    "from keras.layers import Input, Convolution2D, MaxPooling2D, Dense, Dropout, Flatten\n",
    "from keras.models import Model\n",
    "from keras.models import Sequential\n",
    "from keras import regularizers \n",
    "\n",
    "model = Sequential()\n",
    "model.add(Convolution2D(input_shape=(281,281,3), filters=32, kernel_size=3, activation='relu', padding='same', data_format=\"channels_last\", \n",
    "                      name='first_convolution1'))\n",
    "model.add(MaxPooling2D(pool_size=(2,2),strides=2, padding='same'))\n",
    "\n",
    "model.add(Convolution2D(input_shape=(141,141,3), filters=32, kernel_size=3, activation='relu', padding='same', data_format=\"channels_last\", \n",
    "                      name='second_convolution'))\n",
    "model.add(MaxPooling2D(pool_size=(2,2),strides=2, padding='same'))\n",
    "\n",
    "model.add(Convolution2D(input_shape=(71,71,3), filters=32, kernel_size=3, activation='relu', padding='same', data_format=\"channels_last\", \n",
    "                      name='third_convolution'))\n",
    "model.add(MaxPooling2D(pool_size=(2,2),strides=2, padding='same'))\n",
    "\n",
    "model.add(Convolution2D(input_shape=(36,36,3), filters=32, kernel_size=3, activation='relu', padding='same', data_format=\"channels_last\", \n",
    "                      name='fourth_convolution'))\n",
    "model.add(MaxPooling2D(pool_size=(2,2),strides=2, padding='same'))\n",
    "\n",
    "model.add(Convolution2D(input_shape=(18,18,3), filters=32, kernel_size=3, activation='relu', padding='same', data_format=\"channels_last\", \n",
    "                      name='fifth_convolution'))\n",
    "model.add(MaxPooling2D(pool_size=(2,2),strides=2, padding='same'))\n",
    "\n",
    "model.add(Convolution2D(input_shape=(5,5,3), filters=32, kernel_size=3, activation='relu', padding='same', data_format=\"channels_last\", \n",
    "                      name='sixth_convolution'))\n",
    "model.add(MaxPooling2D(pool_size=(2,2),strides=2, padding='same'))\n",
    "\n",
    "model.add(Flatten())\n",
    "model.add(Dense(units=9, activation='sigmoid', input_shape=[800], kernel_regularizer=regularizers.l2(.01)))\n",
    "model.summary()"
   ]
  },
  {
   "cell_type": "code",
   "execution_count": 118,
   "metadata": {
    "collapsed": true
   },
   "outputs": [],
   "source": [
    "model.compile(optimizer='adam', loss = 'binary_crossentropy', metrics=['accuracy'])"
   ]
  },
  {
   "cell_type": "code",
   "execution_count": 119,
   "metadata": {
    "collapsed": false
   },
   "outputs": [
    {
     "name": "stdout",
     "output_type": "stream",
     "text": [
      "Train on 4410 samples, validate on 490 samples\n",
      "Epoch 1/20\n",
      "4410/4410 [==============================] - 280s - loss: 0.7054 - acc: 0.6371 - val_loss: 0.6510 - val_acc: 0.6481\n",
      "Epoch 2/20\n",
      "4410/4410 [==============================] - 279s - loss: 0.6416 - acc: 0.6517 - val_loss: 0.6382 - val_acc: 0.6494\n",
      "Epoch 3/20\n",
      "4410/4410 [==============================] - 280s - loss: 0.6314 - acc: 0.6581 - val_loss: 0.6298 - val_acc: 0.6642\n",
      "Epoch 4/20\n",
      "4410/4410 [==============================] - 279s - loss: 0.6246 - acc: 0.6641 - val_loss: 0.6253 - val_acc: 0.6748\n",
      "Epoch 5/20\n",
      "4410/4410 [==============================] - 281s - loss: 0.6187 - acc: 0.6701 - val_loss: 0.6190 - val_acc: 0.6689\n",
      "Epoch 6/20\n",
      "4410/4410 [==============================] - 281s - loss: 0.6112 - acc: 0.6775 - val_loss: 0.6136 - val_acc: 0.6769\n",
      "Epoch 7/20\n",
      "4410/4410 [==============================] - 280s - loss: 0.6015 - acc: 0.6864 - val_loss: 0.6070 - val_acc: 0.6814\n",
      "Epoch 8/20\n",
      "4410/4410 [==============================] - 281s - loss: 0.6008 - acc: 0.6874 - val_loss: 0.6274 - val_acc: 0.6617\n",
      "Epoch 9/20\n",
      "4410/4410 [==============================] - 282s - loss: 0.5946 - acc: 0.6927 - val_loss: 0.6160 - val_acc: 0.6712\n",
      "Epoch 10/20\n",
      "4410/4410 [==============================] - 282s - loss: 0.5848 - acc: 0.7027 - val_loss: 0.6132 - val_acc: 0.6748\n",
      "Epoch 11/20\n",
      "4410/4410 [==============================] - 282s - loss: 0.5760 - acc: 0.7091 - val_loss: 0.6366 - val_acc: 0.6678\n",
      "Epoch 12/20\n",
      "4410/4410 [==============================] - 283s - loss: 0.5715 - acc: 0.7129 - val_loss: 0.6233 - val_acc: 0.6764\n",
      "Epoch 13/20\n",
      "4410/4410 [==============================] - 283s - loss: 0.5604 - acc: 0.7254 - val_loss: 0.6296 - val_acc: 0.6773\n",
      "Epoch 14/20\n",
      "4410/4410 [==============================] - 283s - loss: 0.5520 - acc: 0.7325 - val_loss: 0.6327 - val_acc: 0.6789\n",
      "Epoch 15/20\n",
      "4410/4410 [==============================] - 283s - loss: 0.5436 - acc: 0.7374 - val_loss: 0.6609 - val_acc: 0.6605\n",
      "Epoch 16/20\n",
      "4410/4410 [==============================] - 283s - loss: 0.5309 - acc: 0.7469 - val_loss: 0.6700 - val_acc: 0.6696\n",
      "Epoch 17/20\n",
      "4410/4410 [==============================] - 283s - loss: 0.5187 - acc: 0.7566 - val_loss: 0.6794 - val_acc: 0.6626\n",
      "Epoch 18/20\n",
      "4410/4410 [==============================] - 285s - loss: 0.5027 - acc: 0.7673 - val_loss: 0.6987 - val_acc: 0.6658\n",
      "Epoch 19/20\n",
      "4410/4410 [==============================] - 283s - loss: 0.4961 - acc: 0.7716 - val_loss: 0.7151 - val_acc: 0.6587\n",
      "Epoch 20/20\n",
      "4410/4410 [==============================] - 283s - loss: 0.4769 - acc: 0.7835 - val_loss: 0.7267 - val_acc: 0.6587\n"
     ]
    }
   ],
   "source": [
    "history = model.fit(X2_train,y2_train, validation_split=.1, epochs=20, class_weight=class_weights)"
   ]
  },
  {
   "cell_type": "code",
   "execution_count": 120,
   "metadata": {
    "collapsed": false
   },
   "outputs": [
    {
     "data": {
      "image/png": "[encoded data removed]",
      "text/plain": [
       "<matplotlib.figure.Figure at 0x7fc02f565d68>"
      ]
     },
     "metadata": {},
     "output_type": "display_data"
    }
   ],
   "source": [
    "pd.DataFrame(history.history).plot();"
   ]
  },
  {
   "cell_type": "code",
   "execution_count": 121,
   "metadata": {
    "collapsed": true
   },
   "outputs": [],
   "source": [
    "p = model.predict(X2_test)"
   ]
  },
  {
   "cell_type": "code",
   "execution_count": 122,
   "metadata": {
    "collapsed": false
   },
   "outputs": [
    {
     "data": {
      "text/plain": [
       "('F1 Score:',\n",
       " 0.6732741959462808,\n",
       " 'Precision:',\n",
       " 0.669524935935344,\n",
       " 'Recall:',\n",
       " 0.6770656832452906)"
      ]
     },
     "execution_count": 122,
     "metadata": {},
     "output_type": "execute_result"
    }
   ],
   "source": [
    "scores(p,y2_test)"
   ]
  },
  {
   "cell_type": "code",
   "execution_count": 123,
   "metadata": {
    "collapsed": false
   },
   "outputs": [
    {
     "name": "stdout",
     "output_type": "stream",
     "text": [
      "2100/2100 [==============================] - 36s    \n"
     ]
    },
    {
     "data": {
      "text/plain": [
       "[0.70106413977486748, 0.65116403080168228]"
      ]
     },
     "execution_count": 123,
     "metadata": {},
     "output_type": "execute_result"
    }
   ],
   "source": [
    "model.evaluate(X2_test,y2_test)"
   ]
  },
  {
   "cell_type": "markdown",
   "metadata": {},
   "source": [
    "### VGG Net"
   ]
  },
  {
   "cell_type": "code",
   "execution_count": 44,
   "metadata": {
    "collapsed": false
   },
   "outputs": [
    {
     "name": "stdout",
     "output_type": "stream",
     "text": [
      "_________________________________________________________________\n",
      "Layer (type)                 Output Shape              Param #   \n",
      "=================================================================\n",
      "vgg16 (Model)                (None, 8, 8, 512)         14714688  \n",
      "_________________________________________________________________\n",
      "flatten_1 (Flatten)          (None, 32768)             0         \n",
      "_________________________________________________________________\n",
      "dense_1 (Dense)              (None, 9)                 294921    \n",
      "=================================================================\n",
      "Total params: 15,009,609\n",
      "Trainable params: 15,009,609\n",
      "Non-trainable params: 0\n",
      "_________________________________________________________________\n"
     ]
    }
   ],
   "source": [
    "import numpy as np\n",
    "import keras\n",
    "from keras.models import Sequential\n",
    "from keras.layers import Dense, Dropout, Flatten\n",
    "from keras.layers import Conv2D, MaxPooling2D\n",
    "from keras import regularizers \n",
    "from keras.optimizers import SGD\n",
    "\n",
    "model = Sequential()\n",
    "model.add(keras.applications.vgg16.VGG16(include_top=False, weights='imagenet', input_tensor=None, input_shape=(281,281,3)))\n",
    "model.add(Flatten())\n",
    "model.add(Dense(units=9, activation='sigmoid', input_shape=[32768], kernel_regularizer=regularizers.l2(.01)))\n",
    "model.summary()"
   ]
  },
  {
   "cell_type": "code",
   "execution_count": null,
   "metadata": {
    "collapsed": true
   },
   "outputs": [],
   "source": [
    "model.compile(optimizer='adam', loss = 'binary_crossentropy', metrics=['accuracy'])"
   ]
  },
  {
   "cell_type": "code",
   "execution_count": null,
   "metadata": {
    "collapsed": false
   },
   "outputs": [
    {
     "name": "stdout",
     "output_type": "stream",
     "text": [
      "Train on 4410 samples, validate on 490 samples\n",
      "Epoch 1/10\n",
      "4410/4410 [==============================] - 8905s - loss: 7.7934 - acc: 0.5380 - val_loss: 7.8202 - val_acc: 0.5381\n",
      "Epoch 2/10\n",
      " 160/4410 [>.............................] - ETA: 8299s - loss: 7.9343 - acc: 0.5306"
     ]
    }
   ],
   "source": [
    "history = model.fit(X2_train,y2_train, validation_split=.1, class_weight=class_weights)"
   ]
  },
  {
   "cell_type": "code",
   "execution_count": null,
   "metadata": {
    "collapsed": true
   },
   "outputs": [],
   "source": [
    "pd.DataFrame(history.history).plot();"
   ]
  },
  {
   "cell_type": "code",
   "execution_count": null,
   "metadata": {
    "collapsed": true
   },
   "outputs": [],
   "source": [
    "p = model.predict(X2_test)"
   ]
  },
  {
   "cell_type": "code",
   "execution_count": null,
   "metadata": {
    "collapsed": true
   },
   "outputs": [],
   "source": [
    "scores(p,y2_test)"
   ]
  },
  {
   "cell_type": "code",
   "execution_count": null,
   "metadata": {
    "collapsed": true
   },
   "outputs": [],
   "source": [
    "model.evaluate(X2_test,y2_test)"
   ]
  },
  {
   "cell_type": "markdown",
   "metadata": {},
   "source": [
    "### Model Comparison Dataframe"
   ]
  },
  {
   "cell_type": "code",
   "execution_count": 39,
   "metadata": {
    "collapsed": false
   },
   "outputs": [
    {
     "data": {
      "text/html": [
       "<div>\n",
       "<style>\n",
       "    .dataframe thead tr:only-child th {\n",
       "        text-align: right;\n",
       "    }\n",
       "\n",
       "    .dataframe thead th {\n",
       "        text-align: left;\n",
       "    }\n",
       "\n",
       "    .dataframe tbody tr th {\n",
       "        vertical-align: top;\n",
       "    }\n",
       "</style>\n",
       "<table border=\"1\" class=\"dataframe\">\n",
       "  <thead>\n",
       "    <tr style=\"text-align: right;\">\n",
       "      <th></th>\n",
       "      <th>Model Type</th>\n",
       "      <th>F1 Score</th>\n",
       "      <th>has_table_service</th>\n",
       "      <th>has_alcohol</th>\n",
       "      <th>good_for_kids</th>\n",
       "      <th>takes_reservations</th>\n",
       "      <th>outdoor_seating</th>\n",
       "      <th>good_for_dinner</th>\n",
       "      <th>good_for_lunch</th>\n",
       "      <th>ambience_is_classy</th>\n",
       "      <th>restaurant_is_expensive</th>\n",
       "    </tr>\n",
       "  </thead>\n",
       "  <tbody>\n",
       "    <tr>\n",
       "      <th>0</th>\n",
       "      <td>KNN</td>\n",
       "      <td>-</td>\n",
       "      <td>.85</td>\n",
       "      <td>.73</td>\n",
       "      <td>.54</td>\n",
       "      <td>.75</td>\n",
       "      <td>.44</td>\n",
       "      <td>.68</td>\n",
       "      <td>.04</td>\n",
       "      <td>.49</td>\n",
       "      <td>.55</td>\n",
       "    </tr>\n",
       "    <tr>\n",
       "      <th>1</th>\n",
       "      <td>NN Single Class</td>\n",
       "      <td>-</td>\n",
       "      <td>.87</td>\n",
       "      <td>.85</td>\n",
       "      <td>-</td>\n",
       "      <td>.78</td>\n",
       "      <td>.65</td>\n",
       "      <td>-</td>\n",
       "      <td>-</td>\n",
       "      <td>-</td>\n",
       "      <td>-</td>\n",
       "    </tr>\n",
       "    <tr>\n",
       "      <th>2</th>\n",
       "      <td>NN Multi-Class</td>\n",
       "      <td>.51</td>\n",
       "      <td>-</td>\n",
       "      <td>-</td>\n",
       "      <td>-</td>\n",
       "      <td>-</td>\n",
       "      <td>-</td>\n",
       "      <td>-</td>\n",
       "      <td>-</td>\n",
       "      <td>-</td>\n",
       "      <td>-</td>\n",
       "    </tr>\n",
       "    <tr>\n",
       "      <th>3</th>\n",
       "      <td>CNN Multi-Class (2Layers)</td>\n",
       "      <td>.68</td>\n",
       "      <td>-</td>\n",
       "      <td>-</td>\n",
       "      <td>-</td>\n",
       "      <td>-</td>\n",
       "      <td>-</td>\n",
       "      <td>-</td>\n",
       "      <td>-</td>\n",
       "      <td>-</td>\n",
       "      <td>-</td>\n",
       "    </tr>\n",
       "    <tr>\n",
       "      <th>4</th>\n",
       "      <td>CNN Multi-Class (Mock VGG)</td>\n",
       "      <td>.69</td>\n",
       "      <td>-</td>\n",
       "      <td>-</td>\n",
       "      <td>-</td>\n",
       "      <td>-</td>\n",
       "      <td>-</td>\n",
       "      <td>-</td>\n",
       "      <td>-</td>\n",
       "      <td>-</td>\n",
       "      <td>-</td>\n",
       "    </tr>\n",
       "    <tr>\n",
       "      <th>5</th>\n",
       "      <td>VGGNET16</td>\n",
       "      <td>Need more time to train</td>\n",
       "      <td>-</td>\n",
       "      <td>-</td>\n",
       "      <td>-</td>\n",
       "      <td>-</td>\n",
       "      <td>-</td>\n",
       "      <td>-</td>\n",
       "      <td>-</td>\n",
       "      <td>-</td>\n",
       "      <td>-</td>\n",
       "    </tr>\n",
       "  </tbody>\n",
       "</table>\n",
       "</div>"
      ],
      "text/plain": [
       "                   Model Type                 F1 Score has_table_service  \\\n",
       "0                         KNN                        -               .85   \n",
       "1             NN Single Class                        -               .87   \n",
       "2              NN Multi-Class                      .51                 -   \n",
       "3   CNN Multi-Class (2Layers)                      .68                 -   \n",
       "4  CNN Multi-Class (Mock VGG)                      .69                 -   \n",
       "5                    VGGNET16  Need more time to train                 -   \n",
       "\n",
       "  has_alcohol good_for_kids takes_reservations outdoor_seating  \\\n",
       "0         .73           .54                .75             .44   \n",
       "1         .85             -                .78             .65   \n",
       "2           -             -                  -               -   \n",
       "3           -             -                  -               -   \n",
       "4           -             -                  -               -   \n",
       "5           -             -                  -               -   \n",
       "\n",
       "  good_for_dinner good_for_lunch ambience_is_classy restaurant_is_expensive  \n",
       "0             .68            .04                .49                     .55  \n",
       "1               -              -                  -                       -  \n",
       "2               -              -                  -                       -  \n",
       "3               -              -                  -                       -  \n",
       "4               -              -                  -                       -  \n",
       "5               -              -                  -                       -  "
      ]
     },
     "execution_count": 39,
     "metadata": {},
     "output_type": "execute_result"
    }
   ],
   "source": [
    "ex_comparison = pd.DataFrame([['KNN', '-', '.85','.73','.54','.75','.44','.68','.04','.49','.55'],\n",
    "                              ['NN Single Class','-', '.87','.85','-','.78','.65','-','-','-','-' ], \n",
    "                              ['NN Multi-Class', '.51', '-','-','-','-','-','-','-','-','-'],\n",
    "                              ['CNN Multi-Class (2Layers)', '.68', '-','-','-','-','-','-','-','-','-'],\n",
    "                              ['CNN Multi-Class (Mock VGG)', '.69', '-','-','-','-','-','-','-','-','-'],\n",
    "                              ['VGGNET16', 'Need more time to train', '-','-','-','-','-','-','-','-','-']])\n",
    "ex_comparison.columns = ['Model Type','F1 Score', 'has_table_service', 'has_alcohol', 'good_for_kids', 'takes_reservations', 'outdoor_seating', 'good_for_dinner','good_for_lunch','ambience_is_classy','restaurant_is_expensive']\n",
    "ex_comparison"
   ]
  },
  {
   "cell_type": "markdown",
   "metadata": {
    "collapsed": true
   },
   "source": [
    "## Thanks for reading"
   ]
  }
 ],
 "metadata": {
  "kernelspec": {
   "display_name": "Python 3",
   "language": "python",
   "name": "python3"
  },
  "language_info": {
   "codemirror_mode": {
    "name": "ipython",
    "version": 3
   },
   "file_extension": ".py",
   "mimetype": "text/x-python",
   "name": "python",
   "nbconvert_exporter": "python",
   "pygments_lexer": "ipython3",
   "version": "3.6.0"
  }
 },
 "nbformat": 4,
 "nbformat_minor": 2
}
